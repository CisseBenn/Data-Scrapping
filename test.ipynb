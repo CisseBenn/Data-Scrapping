{
 "cells": [
  {
   "cell_type": "code",
   "execution_count": 41,
   "metadata": {},
   "outputs": [],
   "source": [
    "import pandas as pd\n",
    "import requests\n",
    "from bs4 import BeautifulSoup\n"
   ]
  },
  {
   "cell_type": "code",
   "execution_count": 42,
   "metadata": {},
   "outputs": [
    {
     "name": "stdout",
     "output_type": "stream",
     "text": [
      "1\n",
      "2\n",
      "3\n",
      "4\n",
      "5\n"
     ]
    }
   ],
   "source": [
    "count = 1\n",
    "\n",
    "while count <= 5:\n",
    "    print(count)\n",
    "    count = count + 1\n"
   ]
  },
  {
   "cell_type": "code",
   "execution_count": 43,
   "metadata": {},
   "outputs": [],
   "source": [
    "url = \"https://www.kilimall.co.ke/category/computers-accessories?id=349&form=category\""
   ]
  },
  {
   "cell_type": "code",
   "execution_count": 44,
   "metadata": {},
   "outputs": [
    {
     "name": "stdout",
     "output_type": "stream",
     "text": [
      "2\n",
      "3\n",
      "4\n",
      "5\n",
      "6\n"
     ]
    }
   ],
   "source": [
    "page = 1\n",
    "number_of_pages = 5\n",
    "\n",
    "while page <= number_of_pages:\n",
    "    page = page + 1\n",
    "    print(page)"
   ]
  },
  {
   "cell_type": "code",
   "execution_count": 45,
   "metadata": {},
   "outputs": [
    {
     "data": {
      "text/plain": [
       "['https://www.kilimall.co.ke/category/computers-accessories?id=349&form=category',\n",
       " 'https://www.kilimall.co.ke/category/computers-accessories?id=349&form=category&page=2',\n",
       " 'https://www.kilimall.co.ke/category/computers-accessories?id=349&form=category&page=3',\n",
       " 'https://www.kilimall.co.ke/category/computers-accessories?id=349&form=category&page=4',\n",
       " 'https://www.kilimall.co.ke/category/computers-accessories?id=349&form=category&page=5',\n",
       " 'https://www.kilimall.co.ke/category/computers-accessories?id=349&form=category&page=6',\n",
       " 'https://www.kilimall.co.ke/category/computers-accessories?id=349&form=category&page=7',\n",
       " 'https://www.kilimall.co.ke/category/computers-accessories?id=349&form=category&page=8',\n",
       " 'https://www.kilimall.co.ke/category/computers-accessories?id=349&form=category&page=9',\n",
       " 'https://www.kilimall.co.ke/category/computers-accessories?id=349&form=category&page=10',\n",
       " 'https://www.kilimall.co.ke/category/computers-accessories?id=349&form=category&page=11',\n",
       " 'https://www.kilimall.co.ke/category/computers-accessories?id=349&form=category&page=12',\n",
       " 'https://www.kilimall.co.ke/category/computers-accessories?id=349&form=category&page=13',\n",
       " 'https://www.kilimall.co.ke/category/computers-accessories?id=349&form=category&page=14',\n",
       " 'https://www.kilimall.co.ke/category/computers-accessories?id=349&form=category&page=15',\n",
       " 'https://www.kilimall.co.ke/category/computers-accessories?id=349&form=category&page=16',\n",
       " 'https://www.kilimall.co.ke/category/computers-accessories?id=349&form=category&page=17',\n",
       " 'https://www.kilimall.co.ke/category/computers-accessories?id=349&form=category&page=18',\n",
       " 'https://www.kilimall.co.ke/category/computers-accessories?id=349&form=category&page=19',\n",
       " 'https://www.kilimall.co.ke/category/computers-accessories?id=349&form=category&page=20',\n",
       " 'https://www.kilimall.co.ke/category/computers-accessories?id=349&form=category&page=21',\n",
       " 'https://www.kilimall.co.ke/category/computers-accessories?id=349&form=category&page=22',\n",
       " 'https://www.kilimall.co.ke/category/computers-accessories?id=349&form=category&page=23',\n",
       " 'https://www.kilimall.co.ke/category/computers-accessories?id=349&form=category&page=24',\n",
       " 'https://www.kilimall.co.ke/category/computers-accessories?id=349&form=category&page=25',\n",
       " 'https://www.kilimall.co.ke/category/computers-accessories?id=349&form=category&page=26',\n",
       " 'https://www.kilimall.co.ke/category/computers-accessories?id=349&form=category&page=27',\n",
       " 'https://www.kilimall.co.ke/category/computers-accessories?id=349&form=category&page=28',\n",
       " 'https://www.kilimall.co.ke/category/computers-accessories?id=349&form=category&page=29',\n",
       " 'https://www.kilimall.co.ke/category/computers-accessories?id=349&form=category&page=30',\n",
       " 'https://www.kilimall.co.ke/category/computers-accessories?id=349&form=category&page=31',\n",
       " 'https://www.kilimall.co.ke/category/computers-accessories?id=349&form=category&page=32',\n",
       " 'https://www.kilimall.co.ke/category/computers-accessories?id=349&form=category&page=33',\n",
       " 'https://www.kilimall.co.ke/category/computers-accessories?id=349&form=category&page=34',\n",
       " 'https://www.kilimall.co.ke/category/computers-accessories?id=349&form=category&page=35',\n",
       " 'https://www.kilimall.co.ke/category/computers-accessories?id=349&form=category&page=36',\n",
       " 'https://www.kilimall.co.ke/category/computers-accessories?id=349&form=category&page=37',\n",
       " 'https://www.kilimall.co.ke/category/computers-accessories?id=349&form=category&page=38',\n",
       " 'https://www.kilimall.co.ke/category/computers-accessories?id=349&form=category&page=39',\n",
       " 'https://www.kilimall.co.ke/category/computers-accessories?id=349&form=category&page=40',\n",
       " 'https://www.kilimall.co.ke/category/computers-accessories?id=349&form=category&page=41',\n",
       " 'https://www.kilimall.co.ke/category/computers-accessories?id=349&form=category&page=42',\n",
       " 'https://www.kilimall.co.ke/category/computers-accessories?id=349&form=category&page=43',\n",
       " 'https://www.kilimall.co.ke/category/computers-accessories?id=349&form=category&page=44',\n",
       " 'https://www.kilimall.co.ke/category/computers-accessories?id=349&form=category&page=45',\n",
       " 'https://www.kilimall.co.ke/category/computers-accessories?id=349&form=category&page=46',\n",
       " 'https://www.kilimall.co.ke/category/computers-accessories?id=349&form=category&page=47',\n",
       " 'https://www.kilimall.co.ke/category/computers-accessories?id=349&form=category&page=48',\n",
       " 'https://www.kilimall.co.ke/category/computers-accessories?id=349&form=category&page=49',\n",
       " 'https://www.kilimall.co.ke/category/computers-accessories?id=349&form=category&page=50',\n",
       " 'https://www.kilimall.co.ke/category/computers-accessories?id=349&form=category&page=51',\n",
       " 'https://www.kilimall.co.ke/category/computers-accessories?id=349&form=category&page=52',\n",
       " 'https://www.kilimall.co.ke/category/computers-accessories?id=349&form=category&page=53',\n",
       " 'https://www.kilimall.co.ke/category/computers-accessories?id=349&form=category&page=54',\n",
       " 'https://www.kilimall.co.ke/category/computers-accessories?id=349&form=category&page=55',\n",
       " 'https://www.kilimall.co.ke/category/computers-accessories?id=349&form=category&page=56',\n",
       " 'https://www.kilimall.co.ke/category/computers-accessories?id=349&form=category&page=57',\n",
       " 'https://www.kilimall.co.ke/category/computers-accessories?id=349&form=category&page=58',\n",
       " 'https://www.kilimall.co.ke/category/computers-accessories?id=349&form=category&page=59',\n",
       " 'https://www.kilimall.co.ke/category/computers-accessories?id=349&form=category&page=60',\n",
       " 'https://www.kilimall.co.ke/category/computers-accessories?id=349&form=category&page=61',\n",
       " 'https://www.kilimall.co.ke/category/computers-accessories?id=349&form=category&page=62',\n",
       " 'https://www.kilimall.co.ke/category/computers-accessories?id=349&form=category&page=63',\n",
       " 'https://www.kilimall.co.ke/category/computers-accessories?id=349&form=category&page=64',\n",
       " 'https://www.kilimall.co.ke/category/computers-accessories?id=349&form=category&page=65',\n",
       " 'https://www.kilimall.co.ke/category/computers-accessories?id=349&form=category&page=66',\n",
       " 'https://www.kilimall.co.ke/category/computers-accessories?id=349&form=category&page=67',\n",
       " 'https://www.kilimall.co.ke/category/computers-accessories?id=349&form=category&page=68',\n",
       " 'https://www.kilimall.co.ke/category/computers-accessories?id=349&form=category&page=69',\n",
       " 'https://www.kilimall.co.ke/category/computers-accessories?id=349&form=category&page=70',\n",
       " 'https://www.kilimall.co.ke/category/computers-accessories?id=349&form=category&page=71',\n",
       " 'https://www.kilimall.co.ke/category/computers-accessories?id=349&form=category&page=72',\n",
       " 'https://www.kilimall.co.ke/category/computers-accessories?id=349&form=category&page=73',\n",
       " 'https://www.kilimall.co.ke/category/computers-accessories?id=349&form=category&page=74',\n",
       " 'https://www.kilimall.co.ke/category/computers-accessories?id=349&form=category&page=75',\n",
       " 'https://www.kilimall.co.ke/category/computers-accessories?id=349&form=category&page=76',\n",
       " 'https://www.kilimall.co.ke/category/computers-accessories?id=349&form=category&page=77',\n",
       " 'https://www.kilimall.co.ke/category/computers-accessories?id=349&form=category&page=78',\n",
       " 'https://www.kilimall.co.ke/category/computers-accessories?id=349&form=category&page=79',\n",
       " 'https://www.kilimall.co.ke/category/computers-accessories?id=349&form=category&page=80',\n",
       " 'https://www.kilimall.co.ke/category/computers-accessories?id=349&form=category&page=81',\n",
       " 'https://www.kilimall.co.ke/category/computers-accessories?id=349&form=category&page=82',\n",
       " 'https://www.kilimall.co.ke/category/computers-accessories?id=349&form=category&page=83',\n",
       " 'https://www.kilimall.co.ke/category/computers-accessories?id=349&form=category&page=84',\n",
       " 'https://www.kilimall.co.ke/category/computers-accessories?id=349&form=category&page=85',\n",
       " 'https://www.kilimall.co.ke/category/computers-accessories?id=349&form=category&page=86',\n",
       " 'https://www.kilimall.co.ke/category/computers-accessories?id=349&form=category&page=87',\n",
       " 'https://www.kilimall.co.ke/category/computers-accessories?id=349&form=category&page=88',\n",
       " 'https://www.kilimall.co.ke/category/computers-accessories?id=349&form=category&page=89',\n",
       " 'https://www.kilimall.co.ke/category/computers-accessories?id=349&form=category&page=90',\n",
       " 'https://www.kilimall.co.ke/category/computers-accessories?id=349&form=category&page=91',\n",
       " 'https://www.kilimall.co.ke/category/computers-accessories?id=349&form=category&page=92',\n",
       " 'https://www.kilimall.co.ke/category/computers-accessories?id=349&form=category&page=93',\n",
       " 'https://www.kilimall.co.ke/category/computers-accessories?id=349&form=category&page=94',\n",
       " 'https://www.kilimall.co.ke/category/computers-accessories?id=349&form=category&page=95',\n",
       " 'https://www.kilimall.co.ke/category/computers-accessories?id=349&form=category&page=96',\n",
       " 'https://www.kilimall.co.ke/category/computers-accessories?id=349&form=category&page=97',\n",
       " 'https://www.kilimall.co.ke/category/computers-accessories?id=349&form=category&page=98',\n",
       " 'https://www.kilimall.co.ke/category/computers-accessories?id=349&form=category&page=99',\n",
       " 'https://www.kilimall.co.ke/category/computers-accessories?id=349&form=category&page=100',\n",
       " 'https://www.kilimall.co.ke/category/computers-accessories?id=349&form=category&page=101',\n",
       " 'https://www.kilimall.co.ke/category/computers-accessories?id=349&form=category&page=102',\n",
       " 'https://www.kilimall.co.ke/category/computers-accessories?id=349&form=category&page=103',\n",
       " 'https://www.kilimall.co.ke/category/computers-accessories?id=349&form=category&page=104',\n",
       " 'https://www.kilimall.co.ke/category/computers-accessories?id=349&form=category&page=105',\n",
       " 'https://www.kilimall.co.ke/category/computers-accessories?id=349&form=category&page=106',\n",
       " 'https://www.kilimall.co.ke/category/computers-accessories?id=349&form=category&page=107',\n",
       " 'https://www.kilimall.co.ke/category/computers-accessories?id=349&form=category&page=108',\n",
       " 'https://www.kilimall.co.ke/category/computers-accessories?id=349&form=category&page=109',\n",
       " 'https://www.kilimall.co.ke/category/computers-accessories?id=349&form=category&page=110',\n",
       " 'https://www.kilimall.co.ke/category/computers-accessories?id=349&form=category&page=111',\n",
       " 'https://www.kilimall.co.ke/category/computers-accessories?id=349&form=category&page=112',\n",
       " 'https://www.kilimall.co.ke/category/computers-accessories?id=349&form=category&page=113',\n",
       " 'https://www.kilimall.co.ke/category/computers-accessories?id=349&form=category&page=114',\n",
       " 'https://www.kilimall.co.ke/category/computers-accessories?id=349&form=category&page=115',\n",
       " 'https://www.kilimall.co.ke/category/computers-accessories?id=349&form=category&page=116',\n",
       " 'https://www.kilimall.co.ke/category/computers-accessories?id=349&form=category&page=117',\n",
       " 'https://www.kilimall.co.ke/category/computers-accessories?id=349&form=category&page=118',\n",
       " 'https://www.kilimall.co.ke/category/computers-accessories?id=349&form=category&page=119',\n",
       " 'https://www.kilimall.co.ke/category/computers-accessories?id=349&form=category&page=120',\n",
       " 'https://www.kilimall.co.ke/category/computers-accessories?id=349&form=category&page=121',\n",
       " 'https://www.kilimall.co.ke/category/computers-accessories?id=349&form=category&page=122',\n",
       " 'https://www.kilimall.co.ke/category/computers-accessories?id=349&form=category&page=123',\n",
       " 'https://www.kilimall.co.ke/category/computers-accessories?id=349&form=category&page=124',\n",
       " 'https://www.kilimall.co.ke/category/computers-accessories?id=349&form=category&page=125',\n",
       " 'https://www.kilimall.co.ke/category/computers-accessories?id=349&form=category&page=126',\n",
       " 'https://www.kilimall.co.ke/category/computers-accessories?id=349&form=category&page=127',\n",
       " 'https://www.kilimall.co.ke/category/computers-accessories?id=349&form=category&page=128',\n",
       " 'https://www.kilimall.co.ke/category/computers-accessories?id=349&form=category&page=129',\n",
       " 'https://www.kilimall.co.ke/category/computers-accessories?id=349&form=category&page=130',\n",
       " 'https://www.kilimall.co.ke/category/computers-accessories?id=349&form=category&page=131',\n",
       " 'https://www.kilimall.co.ke/category/computers-accessories?id=349&form=category&page=132',\n",
       " 'https://www.kilimall.co.ke/category/computers-accessories?id=349&form=category&page=133',\n",
       " 'https://www.kilimall.co.ke/category/computers-accessories?id=349&form=category&page=134',\n",
       " 'https://www.kilimall.co.ke/category/computers-accessories?id=349&form=category&page=135',\n",
       " 'https://www.kilimall.co.ke/category/computers-accessories?id=349&form=category&page=136',\n",
       " 'https://www.kilimall.co.ke/category/computers-accessories?id=349&form=category&page=137',\n",
       " 'https://www.kilimall.co.ke/category/computers-accessories?id=349&form=category&page=138',\n",
       " 'https://www.kilimall.co.ke/category/computers-accessories?id=349&form=category&page=139',\n",
       " 'https://www.kilimall.co.ke/category/computers-accessories?id=349&form=category&page=140',\n",
       " 'https://www.kilimall.co.ke/category/computers-accessories?id=349&form=category&page=141',\n",
       " 'https://www.kilimall.co.ke/category/computers-accessories?id=349&form=category&page=142',\n",
       " 'https://www.kilimall.co.ke/category/computers-accessories?id=349&form=category&page=143',\n",
       " 'https://www.kilimall.co.ke/category/computers-accessories?id=349&form=category&page=144',\n",
       " 'https://www.kilimall.co.ke/category/computers-accessories?id=349&form=category&page=145',\n",
       " 'https://www.kilimall.co.ke/category/computers-accessories?id=349&form=category&page=146',\n",
       " 'https://www.kilimall.co.ke/category/computers-accessories?id=349&form=category&page=147',\n",
       " 'https://www.kilimall.co.ke/category/computers-accessories?id=349&form=category&page=148',\n",
       " 'https://www.kilimall.co.ke/category/computers-accessories?id=349&form=category&page=149',\n",
       " 'https://www.kilimall.co.ke/category/computers-accessories?id=349&form=category&page=150',\n",
       " 'https://www.kilimall.co.ke/category/computers-accessories?id=349&form=category&page=151',\n",
       " 'https://www.kilimall.co.ke/category/computers-accessories?id=349&form=category&page=152',\n",
       " 'https://www.kilimall.co.ke/category/computers-accessories?id=349&form=category&page=153',\n",
       " 'https://www.kilimall.co.ke/category/computers-accessories?id=349&form=category&page=154',\n",
       " 'https://www.kilimall.co.ke/category/computers-accessories?id=349&form=category&page=155',\n",
       " 'https://www.kilimall.co.ke/category/computers-accessories?id=349&form=category&page=156',\n",
       " 'https://www.kilimall.co.ke/category/computers-accessories?id=349&form=category&page=157',\n",
       " 'https://www.kilimall.co.ke/category/computers-accessories?id=349&form=category&page=158',\n",
       " 'https://www.kilimall.co.ke/category/computers-accessories?id=349&form=category&page=159',\n",
       " 'https://www.kilimall.co.ke/category/computers-accessories?id=349&form=category&page=160',\n",
       " 'https://www.kilimall.co.ke/category/computers-accessories?id=349&form=category&page=161',\n",
       " 'https://www.kilimall.co.ke/category/computers-accessories?id=349&form=category&page=162',\n",
       " 'https://www.kilimall.co.ke/category/computers-accessories?id=349&form=category&page=163',\n",
       " 'https://www.kilimall.co.ke/category/computers-accessories?id=349&form=category&page=164',\n",
       " 'https://www.kilimall.co.ke/category/computers-accessories?id=349&form=category&page=165',\n",
       " 'https://www.kilimall.co.ke/category/computers-accessories?id=349&form=category&page=166',\n",
       " 'https://www.kilimall.co.ke/category/computers-accessories?id=349&form=category&page=167',\n",
       " 'https://www.kilimall.co.ke/category/computers-accessories?id=349&form=category&page=168',\n",
       " 'https://www.kilimall.co.ke/category/computers-accessories?id=349&form=category&page=169',\n",
       " 'https://www.kilimall.co.ke/category/computers-accessories?id=349&form=category&page=170',\n",
       " 'https://www.kilimall.co.ke/category/computers-accessories?id=349&form=category&page=171',\n",
       " 'https://www.kilimall.co.ke/category/computers-accessories?id=349&form=category&page=172',\n",
       " 'https://www.kilimall.co.ke/category/computers-accessories?id=349&form=category&page=173',\n",
       " 'https://www.kilimall.co.ke/category/computers-accessories?id=349&form=category&page=174',\n",
       " 'https://www.kilimall.co.ke/category/computers-accessories?id=349&form=category&page=175',\n",
       " 'https://www.kilimall.co.ke/category/computers-accessories?id=349&form=category&page=176',\n",
       " 'https://www.kilimall.co.ke/category/computers-accessories?id=349&form=category&page=177',\n",
       " 'https://www.kilimall.co.ke/category/computers-accessories?id=349&form=category&page=178',\n",
       " 'https://www.kilimall.co.ke/category/computers-accessories?id=349&form=category&page=179',\n",
       " 'https://www.kilimall.co.ke/category/computers-accessories?id=349&form=category&page=180',\n",
       " 'https://www.kilimall.co.ke/category/computers-accessories?id=349&form=category&page=181',\n",
       " 'https://www.kilimall.co.ke/category/computers-accessories?id=349&form=category&page=182',\n",
       " 'https://www.kilimall.co.ke/category/computers-accessories?id=349&form=category&page=183',\n",
       " 'https://www.kilimall.co.ke/category/computers-accessories?id=349&form=category&page=184',\n",
       " 'https://www.kilimall.co.ke/category/computers-accessories?id=349&form=category&page=185',\n",
       " 'https://www.kilimall.co.ke/category/computers-accessories?id=349&form=category&page=186',\n",
       " 'https://www.kilimall.co.ke/category/computers-accessories?id=349&form=category&page=187',\n",
       " 'https://www.kilimall.co.ke/category/computers-accessories?id=349&form=category&page=188',\n",
       " 'https://www.kilimall.co.ke/category/computers-accessories?id=349&form=category&page=189',\n",
       " 'https://www.kilimall.co.ke/category/computers-accessories?id=349&form=category&page=190',\n",
       " 'https://www.kilimall.co.ke/category/computers-accessories?id=349&form=category&page=191',\n",
       " 'https://www.kilimall.co.ke/category/computers-accessories?id=349&form=category&page=192',\n",
       " 'https://www.kilimall.co.ke/category/computers-accessories?id=349&form=category&page=193',\n",
       " 'https://www.kilimall.co.ke/category/computers-accessories?id=349&form=category&page=194',\n",
       " 'https://www.kilimall.co.ke/category/computers-accessories?id=349&form=category&page=195',\n",
       " 'https://www.kilimall.co.ke/category/computers-accessories?id=349&form=category&page=196',\n",
       " 'https://www.kilimall.co.ke/category/computers-accessories?id=349&form=category&page=197',\n",
       " 'https://www.kilimall.co.ke/category/computers-accessories?id=349&form=category&page=198',\n",
       " 'https://www.kilimall.co.ke/category/computers-accessories?id=349&form=category&page=199',\n",
       " 'https://www.kilimall.co.ke/category/computers-accessories?id=349&form=category&page=200',\n",
       " 'https://www.kilimall.co.ke/category/computers-accessories?id=349&form=category&page=201',\n",
       " 'https://www.kilimall.co.ke/category/computers-accessories?id=349&form=category&page=202',\n",
       " 'https://www.kilimall.co.ke/category/computers-accessories?id=349&form=category&page=203',\n",
       " 'https://www.kilimall.co.ke/category/computers-accessories?id=349&form=category&page=204',\n",
       " 'https://www.kilimall.co.ke/category/computers-accessories?id=349&form=category&page=205',\n",
       " 'https://www.kilimall.co.ke/category/computers-accessories?id=349&form=category&page=206',\n",
       " 'https://www.kilimall.co.ke/category/computers-accessories?id=349&form=category&page=207',\n",
       " 'https://www.kilimall.co.ke/category/computers-accessories?id=349&form=category&page=208',\n",
       " 'https://www.kilimall.co.ke/category/computers-accessories?id=349&form=category&page=209',\n",
       " 'https://www.kilimall.co.ke/category/computers-accessories?id=349&form=category&page=210',\n",
       " 'https://www.kilimall.co.ke/category/computers-accessories?id=349&form=category&page=211',\n",
       " 'https://www.kilimall.co.ke/category/computers-accessories?id=349&form=category&page=212',\n",
       " 'https://www.kilimall.co.ke/category/computers-accessories?id=349&form=category&page=213',\n",
       " 'https://www.kilimall.co.ke/category/computers-accessories?id=349&form=category&page=214',\n",
       " 'https://www.kilimall.co.ke/category/computers-accessories?id=349&form=category&page=215',\n",
       " 'https://www.kilimall.co.ke/category/computers-accessories?id=349&form=category&page=216',\n",
       " 'https://www.kilimall.co.ke/category/computers-accessories?id=349&form=category&page=217',\n",
       " 'https://www.kilimall.co.ke/category/computers-accessories?id=349&form=category&page=218',\n",
       " 'https://www.kilimall.co.ke/category/computers-accessories?id=349&form=category&page=219',\n",
       " 'https://www.kilimall.co.ke/category/computers-accessories?id=349&form=category&page=220',\n",
       " 'https://www.kilimall.co.ke/category/computers-accessories?id=349&form=category&page=221',\n",
       " 'https://www.kilimall.co.ke/category/computers-accessories?id=349&form=category&page=222',\n",
       " 'https://www.kilimall.co.ke/category/computers-accessories?id=349&form=category&page=223',\n",
       " 'https://www.kilimall.co.ke/category/computers-accessories?id=349&form=category&page=224',\n",
       " 'https://www.kilimall.co.ke/category/computers-accessories?id=349&form=category&page=225',\n",
       " 'https://www.kilimall.co.ke/category/computers-accessories?id=349&form=category&page=226',\n",
       " 'https://www.kilimall.co.ke/category/computers-accessories?id=349&form=category&page=227',\n",
       " 'https://www.kilimall.co.ke/category/computers-accessories?id=349&form=category&page=228',\n",
       " 'https://www.kilimall.co.ke/category/computers-accessories?id=349&form=category&page=229',\n",
       " 'https://www.kilimall.co.ke/category/computers-accessories?id=349&form=category&page=230',\n",
       " 'https://www.kilimall.co.ke/category/computers-accessories?id=349&form=category&page=231',\n",
       " 'https://www.kilimall.co.ke/category/computers-accessories?id=349&form=category&page=232',\n",
       " 'https://www.kilimall.co.ke/category/computers-accessories?id=349&form=category&page=233',\n",
       " 'https://www.kilimall.co.ke/category/computers-accessories?id=349&form=category&page=234',\n",
       " 'https://www.kilimall.co.ke/category/computers-accessories?id=349&form=category&page=235',\n",
       " 'https://www.kilimall.co.ke/category/computers-accessories?id=349&form=category&page=236',\n",
       " 'https://www.kilimall.co.ke/category/computers-accessories?id=349&form=category&page=237',\n",
       " 'https://www.kilimall.co.ke/category/computers-accessories?id=349&form=category&page=238',\n",
       " 'https://www.kilimall.co.ke/category/computers-accessories?id=349&form=category&page=239',\n",
       " 'https://www.kilimall.co.ke/category/computers-accessories?id=349&form=category&page=240',\n",
       " 'https://www.kilimall.co.ke/category/computers-accessories?id=349&form=category&page=241',\n",
       " 'https://www.kilimall.co.ke/category/computers-accessories?id=349&form=category&page=242',\n",
       " 'https://www.kilimall.co.ke/category/computers-accessories?id=349&form=category&page=243',\n",
       " 'https://www.kilimall.co.ke/category/computers-accessories?id=349&form=category&page=244',\n",
       " 'https://www.kilimall.co.ke/category/computers-accessories?id=349&form=category&page=245',\n",
       " 'https://www.kilimall.co.ke/category/computers-accessories?id=349&form=category&page=246',\n",
       " 'https://www.kilimall.co.ke/category/computers-accessories?id=349&form=category&page=247',\n",
       " 'https://www.kilimall.co.ke/category/computers-accessories?id=349&form=category&page=248',\n",
       " 'https://www.kilimall.co.ke/category/computers-accessories?id=349&form=category&page=249',\n",
       " 'https://www.kilimall.co.ke/category/computers-accessories?id=349&form=category&page=250',\n",
       " 'https://www.kilimall.co.ke/category/computers-accessories?id=349&form=category&page=251',\n",
       " 'https://www.kilimall.co.ke/category/computers-accessories?id=349&form=category&page=252',\n",
       " 'https://www.kilimall.co.ke/category/computers-accessories?id=349&form=category&page=253',\n",
       " 'https://www.kilimall.co.ke/category/computers-accessories?id=349&form=category&page=254',\n",
       " 'https://www.kilimall.co.ke/category/computers-accessories?id=349&form=category&page=255',\n",
       " 'https://www.kilimall.co.ke/category/computers-accessories?id=349&form=category&page=256',\n",
       " 'https://www.kilimall.co.ke/category/computers-accessories?id=349&form=category&page=257',\n",
       " 'https://www.kilimall.co.ke/category/computers-accessories?id=349&form=category&page=258',\n",
       " 'https://www.kilimall.co.ke/category/computers-accessories?id=349&form=category&page=259',\n",
       " 'https://www.kilimall.co.ke/category/computers-accessories?id=349&form=category&page=260',\n",
       " 'https://www.kilimall.co.ke/category/computers-accessories?id=349&form=category&page=261',\n",
       " 'https://www.kilimall.co.ke/category/computers-accessories?id=349&form=category&page=262',\n",
       " 'https://www.kilimall.co.ke/category/computers-accessories?id=349&form=category&page=263',\n",
       " 'https://www.kilimall.co.ke/category/computers-accessories?id=349&form=category&page=264',\n",
       " 'https://www.kilimall.co.ke/category/computers-accessories?id=349&form=category&page=265',\n",
       " 'https://www.kilimall.co.ke/category/computers-accessories?id=349&form=category&page=266',\n",
       " 'https://www.kilimall.co.ke/category/computers-accessories?id=349&form=category&page=267',\n",
       " 'https://www.kilimall.co.ke/category/computers-accessories?id=349&form=category&page=268',\n",
       " 'https://www.kilimall.co.ke/category/computers-accessories?id=349&form=category&page=269',\n",
       " 'https://www.kilimall.co.ke/category/computers-accessories?id=349&form=category&page=270',\n",
       " 'https://www.kilimall.co.ke/category/computers-accessories?id=349&form=category&page=271',\n",
       " 'https://www.kilimall.co.ke/category/computers-accessories?id=349&form=category&page=272',\n",
       " 'https://www.kilimall.co.ke/category/computers-accessories?id=349&form=category&page=273',\n",
       " 'https://www.kilimall.co.ke/category/computers-accessories?id=349&form=category&page=274',\n",
       " 'https://www.kilimall.co.ke/category/computers-accessories?id=349&form=category&page=275',\n",
       " 'https://www.kilimall.co.ke/category/computers-accessories?id=349&form=category&page=276',\n",
       " 'https://www.kilimall.co.ke/category/computers-accessories?id=349&form=category&page=277',\n",
       " 'https://www.kilimall.co.ke/category/computers-accessories?id=349&form=category&page=278',\n",
       " 'https://www.kilimall.co.ke/category/computers-accessories?id=349&form=category&page=279']"
      ]
     },
     "execution_count": 45,
     "metadata": {},
     "output_type": "execute_result"
    }
   ],
   "source": [
    "page = 1\n",
    "number_of_pages = 278\n",
    "\n",
    "url = \"https://www.kilimall.co.ke/category/computers-accessories?id=349&form=category\"\n",
    "\n",
    "pagelist = []\n",
    "pagelist.append(url)\n",
    "\n",
    "while page <= number_of_pages:\n",
    "    page = page + 1\n",
    "    pagestr = str(page)\n",
    "    nextpage = url + \"&page=\" + pagestr\n",
    "\n",
    "    pagelist.append(nextpage)\n",
    "    \n",
    "pagelist"
   ]
  },
  {
   "cell_type": "code",
   "execution_count": 46,
   "metadata": {},
   "outputs": [
    {
     "name": "stdout",
     "output_type": "stream",
     "text": [
      "2\n",
      "4\n",
      "6\n",
      "8\n",
      "10\n",
      "12\n",
      "14\n",
      "16\n",
      "18\n",
      "20\n"
     ]
    }
   ],
   "source": [
    "for x in range(2, 21, 2):\n",
    "    print(x)"
   ]
  },
  {
   "cell_type": "code",
   "execution_count": 47,
   "metadata": {},
   "outputs": [],
   "source": [
    "employees = [\"John\", \"Andrew\", \"Mark\"]"
   ]
  },
  {
   "cell_type": "code",
   "execution_count": 48,
   "metadata": {},
   "outputs": [
    {
     "name": "stdout",
     "output_type": "stream",
     "text": [
      "{'Brand': 'Samsung', 'Price': 3000, 'Color': 'Red'}\n"
     ]
    }
   ],
   "source": [
    "phone = {\n",
    "    \"Brand\": \"Samsung\",\n",
    "    \"Price\": 3000,\n",
    "    \"Color\": \"Red\"\n",
    "    }\n",
    "\n",
    "print(phone)"
   ]
  },
  {
   "cell_type": "code",
   "execution_count": 49,
   "metadata": {},
   "outputs": [
    {
     "name": "stdout",
     "output_type": "stream",
     "text": [
      "['red', 'Blue', 'Pink']\n",
      "dict_items([('Brand', 'Toyota'), ('Model', 'Landcruiser V8'), ('Year', 2018), ('Colors', ['red', 'Blue', 'Pink'])])\n",
      "exists\n"
     ]
    }
   ],
   "source": [
    "car = {\n",
    "    \"Brand\": \"Toyota\",\n",
    "    \"Model\": \"Landcruiser V8\",\n",
    "    \"Year\": 2018,\n",
    "    \"Colors\": [\"red\", \"Blue\", \"Pink\"]\n",
    "}\n",
    "\n",
    "print(car[\"Colors\"])\n",
    "\n",
    "y=car.get(\"Model\")\n",
    "\n",
    "x = car.keys()\n",
    "x\n",
    "z = car.values()\n",
    "s = car.items()\n",
    "\n",
    "print (s)\n",
    "\n",
    "if \"Model\" in car:\n",
    "    print(\"exists\")"
   ]
  },
  {
   "cell_type": "code",
   "execution_count": 50,
   "metadata": {},
   "outputs": [
    {
     "data": {
      "text/plain": [
       "{'Brand': 'Toyota',\n",
       " 'Model': 'Nissan',\n",
       " 'Year': 2018,\n",
       " 'Colors': ['red', 'Blue', 'Pink']}"
      ]
     },
     "execution_count": 50,
     "metadata": {},
     "output_type": "execute_result"
    }
   ],
   "source": [
    "car[\"Model\"] = \"Nissan\"\n",
    "car"
   ]
  },
  {
   "cell_type": "code",
   "execution_count": 51,
   "metadata": {},
   "outputs": [
    {
     "data": {
      "text/plain": [
       "{'Brand': 'Toyota',\n",
       " 'Model': 'Nissan',\n",
       " 'Year': 2018,\n",
       " 'Colors': ['red', 'Blue', 'Pink'],\n",
       " 'Engine size': '5400cc'}"
      ]
     },
     "execution_count": 51,
     "metadata": {},
     "output_type": "execute_result"
    }
   ],
   "source": [
    "car[\"Engine size\"] = \"5400cc\"\n",
    "car"
   ]
  },
  {
   "cell_type": "code",
   "execution_count": 52,
   "metadata": {},
   "outputs": [
    {
     "data": {
      "text/plain": [
       "{'Brand': 'Toyota',\n",
       " 'Model': 'Nissan',\n",
       " 'Year': 2018,\n",
       " 'Colors': ['red', 'Blue', 'Pink']}"
      ]
     },
     "execution_count": 52,
     "metadata": {},
     "output_type": "execute_result"
    }
   ],
   "source": [
    "car.popitem()\n",
    "car"
   ]
  },
  {
   "cell_type": "code",
   "execution_count": 53,
   "metadata": {},
   "outputs": [],
   "source": [
    "del car[\"Year\"]"
   ]
  },
  {
   "cell_type": "code",
   "execution_count": 54,
   "metadata": {},
   "outputs": [
    {
     "data": {
      "text/plain": [
       "{'Brand': 'Toyota', 'Model': 'Nissan', 'Colors': ['red', 'Blue', 'Pink']}"
      ]
     },
     "execution_count": 54,
     "metadata": {},
     "output_type": "execute_result"
    }
   ],
   "source": [
    "car"
   ]
  },
  {
   "cell_type": "code",
   "execution_count": 55,
   "metadata": {},
   "outputs": [
    {
     "data": {
      "text/plain": [
       "{}"
      ]
     },
     "execution_count": 55,
     "metadata": {},
     "output_type": "execute_result"
    }
   ],
   "source": [
    "car.clear()\n",
    "car"
   ]
  },
  {
   "cell_type": "code",
   "execution_count": 56,
   "metadata": {},
   "outputs": [
    {
     "data": {
      "text/plain": [
       "{'Brand': 'Samsung', 'Price': 3000, 'Color': 'Red'}"
      ]
     },
     "execution_count": 56,
     "metadata": {},
     "output_type": "execute_result"
    }
   ],
   "source": [
    "phone"
   ]
  },
  {
   "cell_type": "code",
   "execution_count": 57,
   "metadata": {},
   "outputs": [
    {
     "name": "stdout",
     "output_type": "stream",
     "text": [
      "Samsung\n",
      "3000\n",
      "Red\n"
     ]
    }
   ],
   "source": [
    "for x in phone:\n",
    "    print(phone[x])"
   ]
  },
  {
   "cell_type": "code",
   "execution_count": 58,
   "metadata": {},
   "outputs": [
    {
     "name": "stdout",
     "output_type": "stream",
     "text": [
      "Brand\n",
      "Price\n",
      "Color\n"
     ]
    }
   ],
   "source": [
    "for x in phone.keys():\n",
    "    print(x)"
   ]
  },
  {
   "cell_type": "code",
   "execution_count": 67,
   "metadata": {},
   "outputs": [
    {
     "data": {
      "text/plain": [
       "{'child1': {'name': 'Purity', 'age': 21},\n",
       " 'child2': {'name': 'Jane', 'age': 25},\n",
       " 'child3': {'name': 'Alpha', 'Age': '45'}}"
      ]
     },
     "execution_count": 67,
     "metadata": {},
     "output_type": "execute_result"
    }
   ],
   "source": [
    "children = {\n",
    "\"child1\": {\n",
    "    \"name\": \"Purity\",\n",
    "    \"age\": 21\n",
    "},\n",
    "\"child2\": {\n",
    "    \"name\" : \"Jane\",\n",
    "    \"age\": 25\n",
    "},\n",
    "\"child3\":{\n",
    "    \"name\": \"Alpha\",\n",
    "    \"Age\": \"45\"\n",
    "}\n",
    "}\n",
    "\n",
    "children"
   ]
  },
  {
   "cell_type": "code",
   "execution_count": 66,
   "metadata": {},
   "outputs": [
    {
     "name": "stdout",
     "output_type": "stream",
     "text": [
      "Recursion Example results\n",
      "1\n",
      "3\n",
      "6\n",
      "10\n",
      "15\n",
      "21\n",
      "28\n",
      "36\n"
     ]
    },
    {
     "data": {
      "text/plain": [
       "36"
      ]
     },
     "execution_count": 66,
     "metadata": {},
     "output_type": "execute_result"
    }
   ],
   "source": [
    "#Recursion\n",
    "\n",
    "def tri_recursion(k):\n",
    "    if (k > 0):\n",
    "        results = k + tri_recursion(k - 1)\n",
    "        print(results)\n",
    "        return results\n",
    "    else:\n",
    "        return 0\n",
    "    \n",
    "print(\"Recursion Example results\")\n",
    "\n",
    "tri_recursion(8)\n"
   ]
  },
  {
   "cell_type": "code",
   "execution_count": 88,
   "metadata": {},
   "outputs": [
    {
     "data": {
      "text/plain": [
       "10"
      ]
     },
     "execution_count": 88,
     "metadata": {},
     "output_type": "execute_result"
    }
   ],
   "source": [
    "def multiply(a , /):\n",
    "    return 5 + a\n",
    "\n",
    "multiply(5)"
   ]
  },
  {
   "cell_type": "code",
   "execution_count": 89,
   "metadata": {},
   "outputs": [
    {
     "name": "stdout",
     "output_type": "stream",
     "text": [
      "apple\n",
      "banana\n",
      "cherry\n"
     ]
    }
   ],
   "source": [
    "def my_function(food):\n",
    "  for x in food:\n",
    "    print(x)\n",
    "\n",
    "fruits = [\"apple\", \"banana\", \"cherry\"]\n",
    "\n",
    "my_function(fruits)"
   ]
  }
 ],
 "metadata": {
  "kernelspec": {
   "display_name": "Python 3",
   "language": "python",
   "name": "python3"
  },
  "language_info": {
   "codemirror_mode": {
    "name": "ipython",
    "version": 3
   },
   "file_extension": ".py",
   "mimetype": "text/x-python",
   "name": "python",
   "nbconvert_exporter": "python",
   "pygments_lexer": "ipython3",
   "version": "3.11.9"
  }
 },
 "nbformat": 4,
 "nbformat_minor": 2
}
