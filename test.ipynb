{
 "cells": [
  {
   "cell_type": "code",
   "execution_count": 79,
   "metadata": {},
   "outputs": [],
   "source": [
    "import pandas as pd\n",
    "import requests\n",
    "from bs4 import BeautifulSoup\n"
   ]
  },
  {
   "cell_type": "code",
   "execution_count": 80,
   "metadata": {},
   "outputs": [
    {
     "name": "stdout",
     "output_type": "stream",
     "text": [
      "1\n",
      "2\n",
      "3\n",
      "4\n",
      "5\n"
     ]
    }
   ],
   "source": [
    "count = 1\n",
    "\n",
    "while count <= 5:\n",
    "    print(count)\n",
    "    count = count + 1\n"
   ]
  },
  {
   "cell_type": "code",
   "execution_count": 81,
   "metadata": {},
   "outputs": [],
   "source": [
    "url = \"https://www.kilimall.co.ke/category/computers-accessories?id=349&form=category\""
   ]
  },
  {
   "cell_type": "code",
   "execution_count": 82,
   "metadata": {},
   "outputs": [
    {
     "name": "stdout",
     "output_type": "stream",
     "text": [
      "2\n",
      "3\n",
      "4\n",
      "5\n",
      "6\n"
     ]
    }
   ],
   "source": [
    "page = 1\n",
    "number_of_pages = 5\n",
    "\n",
    "while page <= number_of_pages:\n",
    "    page = page + 1\n",
    "    print(page)"
   ]
  },
  {
   "cell_type": "code",
   "execution_count": 83,
   "metadata": {},
   "outputs": [
    {
     "data": {
      "text/plain": [
       "['https://www.kilimall.co.ke/category/computers-accessories?id=349&form=category',\n",
       " 'https://www.kilimall.co.ke/category/computers-accessories?id=349&form=category&page=2',\n",
       " 'https://www.kilimall.co.ke/category/computers-accessories?id=349&form=category&page=3',\n",
       " 'https://www.kilimall.co.ke/category/computers-accessories?id=349&form=category&page=4',\n",
       " 'https://www.kilimall.co.ke/category/computers-accessories?id=349&form=category&page=5',\n",
       " 'https://www.kilimall.co.ke/category/computers-accessories?id=349&form=category&page=6',\n",
       " 'https://www.kilimall.co.ke/category/computers-accessories?id=349&form=category&page=7',\n",
       " 'https://www.kilimall.co.ke/category/computers-accessories?id=349&form=category&page=8',\n",
       " 'https://www.kilimall.co.ke/category/computers-accessories?id=349&form=category&page=9',\n",
       " 'https://www.kilimall.co.ke/category/computers-accessories?id=349&form=category&page=10',\n",
       " 'https://www.kilimall.co.ke/category/computers-accessories?id=349&form=category&page=11',\n",
       " 'https://www.kilimall.co.ke/category/computers-accessories?id=349&form=category&page=12',\n",
       " 'https://www.kilimall.co.ke/category/computers-accessories?id=349&form=category&page=13',\n",
       " 'https://www.kilimall.co.ke/category/computers-accessories?id=349&form=category&page=14',\n",
       " 'https://www.kilimall.co.ke/category/computers-accessories?id=349&form=category&page=15',\n",
       " 'https://www.kilimall.co.ke/category/computers-accessories?id=349&form=category&page=16',\n",
       " 'https://www.kilimall.co.ke/category/computers-accessories?id=349&form=category&page=17',\n",
       " 'https://www.kilimall.co.ke/category/computers-accessories?id=349&form=category&page=18',\n",
       " 'https://www.kilimall.co.ke/category/computers-accessories?id=349&form=category&page=19',\n",
       " 'https://www.kilimall.co.ke/category/computers-accessories?id=349&form=category&page=20',\n",
       " 'https://www.kilimall.co.ke/category/computers-accessories?id=349&form=category&page=21',\n",
       " 'https://www.kilimall.co.ke/category/computers-accessories?id=349&form=category&page=22',\n",
       " 'https://www.kilimall.co.ke/category/computers-accessories?id=349&form=category&page=23',\n",
       " 'https://www.kilimall.co.ke/category/computers-accessories?id=349&form=category&page=24',\n",
       " 'https://www.kilimall.co.ke/category/computers-accessories?id=349&form=category&page=25',\n",
       " 'https://www.kilimall.co.ke/category/computers-accessories?id=349&form=category&page=26',\n",
       " 'https://www.kilimall.co.ke/category/computers-accessories?id=349&form=category&page=27',\n",
       " 'https://www.kilimall.co.ke/category/computers-accessories?id=349&form=category&page=28',\n",
       " 'https://www.kilimall.co.ke/category/computers-accessories?id=349&form=category&page=29',\n",
       " 'https://www.kilimall.co.ke/category/computers-accessories?id=349&form=category&page=30',\n",
       " 'https://www.kilimall.co.ke/category/computers-accessories?id=349&form=category&page=31',\n",
       " 'https://www.kilimall.co.ke/category/computers-accessories?id=349&form=category&page=32',\n",
       " 'https://www.kilimall.co.ke/category/computers-accessories?id=349&form=category&page=33',\n",
       " 'https://www.kilimall.co.ke/category/computers-accessories?id=349&form=category&page=34',\n",
       " 'https://www.kilimall.co.ke/category/computers-accessories?id=349&form=category&page=35',\n",
       " 'https://www.kilimall.co.ke/category/computers-accessories?id=349&form=category&page=36',\n",
       " 'https://www.kilimall.co.ke/category/computers-accessories?id=349&form=category&page=37',\n",
       " 'https://www.kilimall.co.ke/category/computers-accessories?id=349&form=category&page=38',\n",
       " 'https://www.kilimall.co.ke/category/computers-accessories?id=349&form=category&page=39',\n",
       " 'https://www.kilimall.co.ke/category/computers-accessories?id=349&form=category&page=40',\n",
       " 'https://www.kilimall.co.ke/category/computers-accessories?id=349&form=category&page=41',\n",
       " 'https://www.kilimall.co.ke/category/computers-accessories?id=349&form=category&page=42',\n",
       " 'https://www.kilimall.co.ke/category/computers-accessories?id=349&form=category&page=43',\n",
       " 'https://www.kilimall.co.ke/category/computers-accessories?id=349&form=category&page=44',\n",
       " 'https://www.kilimall.co.ke/category/computers-accessories?id=349&form=category&page=45',\n",
       " 'https://www.kilimall.co.ke/category/computers-accessories?id=349&form=category&page=46',\n",
       " 'https://www.kilimall.co.ke/category/computers-accessories?id=349&form=category&page=47',\n",
       " 'https://www.kilimall.co.ke/category/computers-accessories?id=349&form=category&page=48',\n",
       " 'https://www.kilimall.co.ke/category/computers-accessories?id=349&form=category&page=49',\n",
       " 'https://www.kilimall.co.ke/category/computers-accessories?id=349&form=category&page=50',\n",
       " 'https://www.kilimall.co.ke/category/computers-accessories?id=349&form=category&page=51',\n",
       " 'https://www.kilimall.co.ke/category/computers-accessories?id=349&form=category&page=52',\n",
       " 'https://www.kilimall.co.ke/category/computers-accessories?id=349&form=category&page=53',\n",
       " 'https://www.kilimall.co.ke/category/computers-accessories?id=349&form=category&page=54',\n",
       " 'https://www.kilimall.co.ke/category/computers-accessories?id=349&form=category&page=55',\n",
       " 'https://www.kilimall.co.ke/category/computers-accessories?id=349&form=category&page=56',\n",
       " 'https://www.kilimall.co.ke/category/computers-accessories?id=349&form=category&page=57',\n",
       " 'https://www.kilimall.co.ke/category/computers-accessories?id=349&form=category&page=58',\n",
       " 'https://www.kilimall.co.ke/category/computers-accessories?id=349&form=category&page=59',\n",
       " 'https://www.kilimall.co.ke/category/computers-accessories?id=349&form=category&page=60',\n",
       " 'https://www.kilimall.co.ke/category/computers-accessories?id=349&form=category&page=61',\n",
       " 'https://www.kilimall.co.ke/category/computers-accessories?id=349&form=category&page=62',\n",
       " 'https://www.kilimall.co.ke/category/computers-accessories?id=349&form=category&page=63',\n",
       " 'https://www.kilimall.co.ke/category/computers-accessories?id=349&form=category&page=64',\n",
       " 'https://www.kilimall.co.ke/category/computers-accessories?id=349&form=category&page=65',\n",
       " 'https://www.kilimall.co.ke/category/computers-accessories?id=349&form=category&page=66',\n",
       " 'https://www.kilimall.co.ke/category/computers-accessories?id=349&form=category&page=67',\n",
       " 'https://www.kilimall.co.ke/category/computers-accessories?id=349&form=category&page=68',\n",
       " 'https://www.kilimall.co.ke/category/computers-accessories?id=349&form=category&page=69',\n",
       " 'https://www.kilimall.co.ke/category/computers-accessories?id=349&form=category&page=70',\n",
       " 'https://www.kilimall.co.ke/category/computers-accessories?id=349&form=category&page=71',\n",
       " 'https://www.kilimall.co.ke/category/computers-accessories?id=349&form=category&page=72',\n",
       " 'https://www.kilimall.co.ke/category/computers-accessories?id=349&form=category&page=73',\n",
       " 'https://www.kilimall.co.ke/category/computers-accessories?id=349&form=category&page=74',\n",
       " 'https://www.kilimall.co.ke/category/computers-accessories?id=349&form=category&page=75',\n",
       " 'https://www.kilimall.co.ke/category/computers-accessories?id=349&form=category&page=76',\n",
       " 'https://www.kilimall.co.ke/category/computers-accessories?id=349&form=category&page=77',\n",
       " 'https://www.kilimall.co.ke/category/computers-accessories?id=349&form=category&page=78',\n",
       " 'https://www.kilimall.co.ke/category/computers-accessories?id=349&form=category&page=79',\n",
       " 'https://www.kilimall.co.ke/category/computers-accessories?id=349&form=category&page=80',\n",
       " 'https://www.kilimall.co.ke/category/computers-accessories?id=349&form=category&page=81',\n",
       " 'https://www.kilimall.co.ke/category/computers-accessories?id=349&form=category&page=82',\n",
       " 'https://www.kilimall.co.ke/category/computers-accessories?id=349&form=category&page=83',\n",
       " 'https://www.kilimall.co.ke/category/computers-accessories?id=349&form=category&page=84',\n",
       " 'https://www.kilimall.co.ke/category/computers-accessories?id=349&form=category&page=85',\n",
       " 'https://www.kilimall.co.ke/category/computers-accessories?id=349&form=category&page=86',\n",
       " 'https://www.kilimall.co.ke/category/computers-accessories?id=349&form=category&page=87',\n",
       " 'https://www.kilimall.co.ke/category/computers-accessories?id=349&form=category&page=88',\n",
       " 'https://www.kilimall.co.ke/category/computers-accessories?id=349&form=category&page=89',\n",
       " 'https://www.kilimall.co.ke/category/computers-accessories?id=349&form=category&page=90',\n",
       " 'https://www.kilimall.co.ke/category/computers-accessories?id=349&form=category&page=91',\n",
       " 'https://www.kilimall.co.ke/category/computers-accessories?id=349&form=category&page=92',\n",
       " 'https://www.kilimall.co.ke/category/computers-accessories?id=349&form=category&page=93',\n",
       " 'https://www.kilimall.co.ke/category/computers-accessories?id=349&form=category&page=94',\n",
       " 'https://www.kilimall.co.ke/category/computers-accessories?id=349&form=category&page=95',\n",
       " 'https://www.kilimall.co.ke/category/computers-accessories?id=349&form=category&page=96',\n",
       " 'https://www.kilimall.co.ke/category/computers-accessories?id=349&form=category&page=97',\n",
       " 'https://www.kilimall.co.ke/category/computers-accessories?id=349&form=category&page=98',\n",
       " 'https://www.kilimall.co.ke/category/computers-accessories?id=349&form=category&page=99',\n",
       " 'https://www.kilimall.co.ke/category/computers-accessories?id=349&form=category&page=100',\n",
       " 'https://www.kilimall.co.ke/category/computers-accessories?id=349&form=category&page=101',\n",
       " 'https://www.kilimall.co.ke/category/computers-accessories?id=349&form=category&page=102',\n",
       " 'https://www.kilimall.co.ke/category/computers-accessories?id=349&form=category&page=103',\n",
       " 'https://www.kilimall.co.ke/category/computers-accessories?id=349&form=category&page=104',\n",
       " 'https://www.kilimall.co.ke/category/computers-accessories?id=349&form=category&page=105',\n",
       " 'https://www.kilimall.co.ke/category/computers-accessories?id=349&form=category&page=106',\n",
       " 'https://www.kilimall.co.ke/category/computers-accessories?id=349&form=category&page=107',\n",
       " 'https://www.kilimall.co.ke/category/computers-accessories?id=349&form=category&page=108',\n",
       " 'https://www.kilimall.co.ke/category/computers-accessories?id=349&form=category&page=109',\n",
       " 'https://www.kilimall.co.ke/category/computers-accessories?id=349&form=category&page=110',\n",
       " 'https://www.kilimall.co.ke/category/computers-accessories?id=349&form=category&page=111',\n",
       " 'https://www.kilimall.co.ke/category/computers-accessories?id=349&form=category&page=112',\n",
       " 'https://www.kilimall.co.ke/category/computers-accessories?id=349&form=category&page=113',\n",
       " 'https://www.kilimall.co.ke/category/computers-accessories?id=349&form=category&page=114',\n",
       " 'https://www.kilimall.co.ke/category/computers-accessories?id=349&form=category&page=115',\n",
       " 'https://www.kilimall.co.ke/category/computers-accessories?id=349&form=category&page=116',\n",
       " 'https://www.kilimall.co.ke/category/computers-accessories?id=349&form=category&page=117',\n",
       " 'https://www.kilimall.co.ke/category/computers-accessories?id=349&form=category&page=118',\n",
       " 'https://www.kilimall.co.ke/category/computers-accessories?id=349&form=category&page=119',\n",
       " 'https://www.kilimall.co.ke/category/computers-accessories?id=349&form=category&page=120',\n",
       " 'https://www.kilimall.co.ke/category/computers-accessories?id=349&form=category&page=121',\n",
       " 'https://www.kilimall.co.ke/category/computers-accessories?id=349&form=category&page=122',\n",
       " 'https://www.kilimall.co.ke/category/computers-accessories?id=349&form=category&page=123',\n",
       " 'https://www.kilimall.co.ke/category/computers-accessories?id=349&form=category&page=124',\n",
       " 'https://www.kilimall.co.ke/category/computers-accessories?id=349&form=category&page=125',\n",
       " 'https://www.kilimall.co.ke/category/computers-accessories?id=349&form=category&page=126',\n",
       " 'https://www.kilimall.co.ke/category/computers-accessories?id=349&form=category&page=127',\n",
       " 'https://www.kilimall.co.ke/category/computers-accessories?id=349&form=category&page=128',\n",
       " 'https://www.kilimall.co.ke/category/computers-accessories?id=349&form=category&page=129',\n",
       " 'https://www.kilimall.co.ke/category/computers-accessories?id=349&form=category&page=130',\n",
       " 'https://www.kilimall.co.ke/category/computers-accessories?id=349&form=category&page=131',\n",
       " 'https://www.kilimall.co.ke/category/computers-accessories?id=349&form=category&page=132',\n",
       " 'https://www.kilimall.co.ke/category/computers-accessories?id=349&form=category&page=133',\n",
       " 'https://www.kilimall.co.ke/category/computers-accessories?id=349&form=category&page=134',\n",
       " 'https://www.kilimall.co.ke/category/computers-accessories?id=349&form=category&page=135',\n",
       " 'https://www.kilimall.co.ke/category/computers-accessories?id=349&form=category&page=136',\n",
       " 'https://www.kilimall.co.ke/category/computers-accessories?id=349&form=category&page=137',\n",
       " 'https://www.kilimall.co.ke/category/computers-accessories?id=349&form=category&page=138',\n",
       " 'https://www.kilimall.co.ke/category/computers-accessories?id=349&form=category&page=139',\n",
       " 'https://www.kilimall.co.ke/category/computers-accessories?id=349&form=category&page=140',\n",
       " 'https://www.kilimall.co.ke/category/computers-accessories?id=349&form=category&page=141',\n",
       " 'https://www.kilimall.co.ke/category/computers-accessories?id=349&form=category&page=142',\n",
       " 'https://www.kilimall.co.ke/category/computers-accessories?id=349&form=category&page=143',\n",
       " 'https://www.kilimall.co.ke/category/computers-accessories?id=349&form=category&page=144',\n",
       " 'https://www.kilimall.co.ke/category/computers-accessories?id=349&form=category&page=145',\n",
       " 'https://www.kilimall.co.ke/category/computers-accessories?id=349&form=category&page=146',\n",
       " 'https://www.kilimall.co.ke/category/computers-accessories?id=349&form=category&page=147',\n",
       " 'https://www.kilimall.co.ke/category/computers-accessories?id=349&form=category&page=148',\n",
       " 'https://www.kilimall.co.ke/category/computers-accessories?id=349&form=category&page=149',\n",
       " 'https://www.kilimall.co.ke/category/computers-accessories?id=349&form=category&page=150',\n",
       " 'https://www.kilimall.co.ke/category/computers-accessories?id=349&form=category&page=151',\n",
       " 'https://www.kilimall.co.ke/category/computers-accessories?id=349&form=category&page=152',\n",
       " 'https://www.kilimall.co.ke/category/computers-accessories?id=349&form=category&page=153',\n",
       " 'https://www.kilimall.co.ke/category/computers-accessories?id=349&form=category&page=154',\n",
       " 'https://www.kilimall.co.ke/category/computers-accessories?id=349&form=category&page=155',\n",
       " 'https://www.kilimall.co.ke/category/computers-accessories?id=349&form=category&page=156',\n",
       " 'https://www.kilimall.co.ke/category/computers-accessories?id=349&form=category&page=157',\n",
       " 'https://www.kilimall.co.ke/category/computers-accessories?id=349&form=category&page=158',\n",
       " 'https://www.kilimall.co.ke/category/computers-accessories?id=349&form=category&page=159',\n",
       " 'https://www.kilimall.co.ke/category/computers-accessories?id=349&form=category&page=160',\n",
       " 'https://www.kilimall.co.ke/category/computers-accessories?id=349&form=category&page=161',\n",
       " 'https://www.kilimall.co.ke/category/computers-accessories?id=349&form=category&page=162',\n",
       " 'https://www.kilimall.co.ke/category/computers-accessories?id=349&form=category&page=163',\n",
       " 'https://www.kilimall.co.ke/category/computers-accessories?id=349&form=category&page=164',\n",
       " 'https://www.kilimall.co.ke/category/computers-accessories?id=349&form=category&page=165',\n",
       " 'https://www.kilimall.co.ke/category/computers-accessories?id=349&form=category&page=166',\n",
       " 'https://www.kilimall.co.ke/category/computers-accessories?id=349&form=category&page=167',\n",
       " 'https://www.kilimall.co.ke/category/computers-accessories?id=349&form=category&page=168',\n",
       " 'https://www.kilimall.co.ke/category/computers-accessories?id=349&form=category&page=169',\n",
       " 'https://www.kilimall.co.ke/category/computers-accessories?id=349&form=category&page=170',\n",
       " 'https://www.kilimall.co.ke/category/computers-accessories?id=349&form=category&page=171',\n",
       " 'https://www.kilimall.co.ke/category/computers-accessories?id=349&form=category&page=172',\n",
       " 'https://www.kilimall.co.ke/category/computers-accessories?id=349&form=category&page=173',\n",
       " 'https://www.kilimall.co.ke/category/computers-accessories?id=349&form=category&page=174',\n",
       " 'https://www.kilimall.co.ke/category/computers-accessories?id=349&form=category&page=175',\n",
       " 'https://www.kilimall.co.ke/category/computers-accessories?id=349&form=category&page=176',\n",
       " 'https://www.kilimall.co.ke/category/computers-accessories?id=349&form=category&page=177',\n",
       " 'https://www.kilimall.co.ke/category/computers-accessories?id=349&form=category&page=178',\n",
       " 'https://www.kilimall.co.ke/category/computers-accessories?id=349&form=category&page=179',\n",
       " 'https://www.kilimall.co.ke/category/computers-accessories?id=349&form=category&page=180',\n",
       " 'https://www.kilimall.co.ke/category/computers-accessories?id=349&form=category&page=181',\n",
       " 'https://www.kilimall.co.ke/category/computers-accessories?id=349&form=category&page=182',\n",
       " 'https://www.kilimall.co.ke/category/computers-accessories?id=349&form=category&page=183',\n",
       " 'https://www.kilimall.co.ke/category/computers-accessories?id=349&form=category&page=184',\n",
       " 'https://www.kilimall.co.ke/category/computers-accessories?id=349&form=category&page=185',\n",
       " 'https://www.kilimall.co.ke/category/computers-accessories?id=349&form=category&page=186',\n",
       " 'https://www.kilimall.co.ke/category/computers-accessories?id=349&form=category&page=187',\n",
       " 'https://www.kilimall.co.ke/category/computers-accessories?id=349&form=category&page=188',\n",
       " 'https://www.kilimall.co.ke/category/computers-accessories?id=349&form=category&page=189',\n",
       " 'https://www.kilimall.co.ke/category/computers-accessories?id=349&form=category&page=190',\n",
       " 'https://www.kilimall.co.ke/category/computers-accessories?id=349&form=category&page=191',\n",
       " 'https://www.kilimall.co.ke/category/computers-accessories?id=349&form=category&page=192',\n",
       " 'https://www.kilimall.co.ke/category/computers-accessories?id=349&form=category&page=193',\n",
       " 'https://www.kilimall.co.ke/category/computers-accessories?id=349&form=category&page=194',\n",
       " 'https://www.kilimall.co.ke/category/computers-accessories?id=349&form=category&page=195',\n",
       " 'https://www.kilimall.co.ke/category/computers-accessories?id=349&form=category&page=196',\n",
       " 'https://www.kilimall.co.ke/category/computers-accessories?id=349&form=category&page=197',\n",
       " 'https://www.kilimall.co.ke/category/computers-accessories?id=349&form=category&page=198',\n",
       " 'https://www.kilimall.co.ke/category/computers-accessories?id=349&form=category&page=199',\n",
       " 'https://www.kilimall.co.ke/category/computers-accessories?id=349&form=category&page=200',\n",
       " 'https://www.kilimall.co.ke/category/computers-accessories?id=349&form=category&page=201',\n",
       " 'https://www.kilimall.co.ke/category/computers-accessories?id=349&form=category&page=202',\n",
       " 'https://www.kilimall.co.ke/category/computers-accessories?id=349&form=category&page=203',\n",
       " 'https://www.kilimall.co.ke/category/computers-accessories?id=349&form=category&page=204',\n",
       " 'https://www.kilimall.co.ke/category/computers-accessories?id=349&form=category&page=205',\n",
       " 'https://www.kilimall.co.ke/category/computers-accessories?id=349&form=category&page=206',\n",
       " 'https://www.kilimall.co.ke/category/computers-accessories?id=349&form=category&page=207',\n",
       " 'https://www.kilimall.co.ke/category/computers-accessories?id=349&form=category&page=208',\n",
       " 'https://www.kilimall.co.ke/category/computers-accessories?id=349&form=category&page=209',\n",
       " 'https://www.kilimall.co.ke/category/computers-accessories?id=349&form=category&page=210',\n",
       " 'https://www.kilimall.co.ke/category/computers-accessories?id=349&form=category&page=211',\n",
       " 'https://www.kilimall.co.ke/category/computers-accessories?id=349&form=category&page=212',\n",
       " 'https://www.kilimall.co.ke/category/computers-accessories?id=349&form=category&page=213',\n",
       " 'https://www.kilimall.co.ke/category/computers-accessories?id=349&form=category&page=214',\n",
       " 'https://www.kilimall.co.ke/category/computers-accessories?id=349&form=category&page=215',\n",
       " 'https://www.kilimall.co.ke/category/computers-accessories?id=349&form=category&page=216',\n",
       " 'https://www.kilimall.co.ke/category/computers-accessories?id=349&form=category&page=217',\n",
       " 'https://www.kilimall.co.ke/category/computers-accessories?id=349&form=category&page=218',\n",
       " 'https://www.kilimall.co.ke/category/computers-accessories?id=349&form=category&page=219',\n",
       " 'https://www.kilimall.co.ke/category/computers-accessories?id=349&form=category&page=220',\n",
       " 'https://www.kilimall.co.ke/category/computers-accessories?id=349&form=category&page=221',\n",
       " 'https://www.kilimall.co.ke/category/computers-accessories?id=349&form=category&page=222',\n",
       " 'https://www.kilimall.co.ke/category/computers-accessories?id=349&form=category&page=223',\n",
       " 'https://www.kilimall.co.ke/category/computers-accessories?id=349&form=category&page=224',\n",
       " 'https://www.kilimall.co.ke/category/computers-accessories?id=349&form=category&page=225',\n",
       " 'https://www.kilimall.co.ke/category/computers-accessories?id=349&form=category&page=226',\n",
       " 'https://www.kilimall.co.ke/category/computers-accessories?id=349&form=category&page=227',\n",
       " 'https://www.kilimall.co.ke/category/computers-accessories?id=349&form=category&page=228',\n",
       " 'https://www.kilimall.co.ke/category/computers-accessories?id=349&form=category&page=229',\n",
       " 'https://www.kilimall.co.ke/category/computers-accessories?id=349&form=category&page=230',\n",
       " 'https://www.kilimall.co.ke/category/computers-accessories?id=349&form=category&page=231',\n",
       " 'https://www.kilimall.co.ke/category/computers-accessories?id=349&form=category&page=232',\n",
       " 'https://www.kilimall.co.ke/category/computers-accessories?id=349&form=category&page=233',\n",
       " 'https://www.kilimall.co.ke/category/computers-accessories?id=349&form=category&page=234',\n",
       " 'https://www.kilimall.co.ke/category/computers-accessories?id=349&form=category&page=235',\n",
       " 'https://www.kilimall.co.ke/category/computers-accessories?id=349&form=category&page=236',\n",
       " 'https://www.kilimall.co.ke/category/computers-accessories?id=349&form=category&page=237',\n",
       " 'https://www.kilimall.co.ke/category/computers-accessories?id=349&form=category&page=238',\n",
       " 'https://www.kilimall.co.ke/category/computers-accessories?id=349&form=category&page=239',\n",
       " 'https://www.kilimall.co.ke/category/computers-accessories?id=349&form=category&page=240',\n",
       " 'https://www.kilimall.co.ke/category/computers-accessories?id=349&form=category&page=241',\n",
       " 'https://www.kilimall.co.ke/category/computers-accessories?id=349&form=category&page=242',\n",
       " 'https://www.kilimall.co.ke/category/computers-accessories?id=349&form=category&page=243',\n",
       " 'https://www.kilimall.co.ke/category/computers-accessories?id=349&form=category&page=244',\n",
       " 'https://www.kilimall.co.ke/category/computers-accessories?id=349&form=category&page=245',\n",
       " 'https://www.kilimall.co.ke/category/computers-accessories?id=349&form=category&page=246',\n",
       " 'https://www.kilimall.co.ke/category/computers-accessories?id=349&form=category&page=247',\n",
       " 'https://www.kilimall.co.ke/category/computers-accessories?id=349&form=category&page=248',\n",
       " 'https://www.kilimall.co.ke/category/computers-accessories?id=349&form=category&page=249',\n",
       " 'https://www.kilimall.co.ke/category/computers-accessories?id=349&form=category&page=250',\n",
       " 'https://www.kilimall.co.ke/category/computers-accessories?id=349&form=category&page=251',\n",
       " 'https://www.kilimall.co.ke/category/computers-accessories?id=349&form=category&page=252',\n",
       " 'https://www.kilimall.co.ke/category/computers-accessories?id=349&form=category&page=253',\n",
       " 'https://www.kilimall.co.ke/category/computers-accessories?id=349&form=category&page=254',\n",
       " 'https://www.kilimall.co.ke/category/computers-accessories?id=349&form=category&page=255',\n",
       " 'https://www.kilimall.co.ke/category/computers-accessories?id=349&form=category&page=256',\n",
       " 'https://www.kilimall.co.ke/category/computers-accessories?id=349&form=category&page=257',\n",
       " 'https://www.kilimall.co.ke/category/computers-accessories?id=349&form=category&page=258',\n",
       " 'https://www.kilimall.co.ke/category/computers-accessories?id=349&form=category&page=259',\n",
       " 'https://www.kilimall.co.ke/category/computers-accessories?id=349&form=category&page=260',\n",
       " 'https://www.kilimall.co.ke/category/computers-accessories?id=349&form=category&page=261',\n",
       " 'https://www.kilimall.co.ke/category/computers-accessories?id=349&form=category&page=262',\n",
       " 'https://www.kilimall.co.ke/category/computers-accessories?id=349&form=category&page=263',\n",
       " 'https://www.kilimall.co.ke/category/computers-accessories?id=349&form=category&page=264',\n",
       " 'https://www.kilimall.co.ke/category/computers-accessories?id=349&form=category&page=265',\n",
       " 'https://www.kilimall.co.ke/category/computers-accessories?id=349&form=category&page=266',\n",
       " 'https://www.kilimall.co.ke/category/computers-accessories?id=349&form=category&page=267',\n",
       " 'https://www.kilimall.co.ke/category/computers-accessories?id=349&form=category&page=268',\n",
       " 'https://www.kilimall.co.ke/category/computers-accessories?id=349&form=category&page=269',\n",
       " 'https://www.kilimall.co.ke/category/computers-accessories?id=349&form=category&page=270',\n",
       " 'https://www.kilimall.co.ke/category/computers-accessories?id=349&form=category&page=271',\n",
       " 'https://www.kilimall.co.ke/category/computers-accessories?id=349&form=category&page=272',\n",
       " 'https://www.kilimall.co.ke/category/computers-accessories?id=349&form=category&page=273',\n",
       " 'https://www.kilimall.co.ke/category/computers-accessories?id=349&form=category&page=274',\n",
       " 'https://www.kilimall.co.ke/category/computers-accessories?id=349&form=category&page=275',\n",
       " 'https://www.kilimall.co.ke/category/computers-accessories?id=349&form=category&page=276',\n",
       " 'https://www.kilimall.co.ke/category/computers-accessories?id=349&form=category&page=277',\n",
       " 'https://www.kilimall.co.ke/category/computers-accessories?id=349&form=category&page=278',\n",
       " 'https://www.kilimall.co.ke/category/computers-accessories?id=349&form=category&page=279']"
      ]
     },
     "execution_count": 83,
     "metadata": {},
     "output_type": "execute_result"
    }
   ],
   "source": [
    "page = 1\n",
    "number_of_pages = 278\n",
    "\n",
    "url = \"https://www.kilimall.co.ke/category/computers-accessories?id=349&form=category\"\n",
    "\n",
    "pagelist = []\n",
    "pagelist.append(url)\n",
    "\n",
    "while page <= number_of_pages:\n",
    "    page = page + 1\n",
    "    pagestr = str(page)\n",
    "    nextpage = url + \"&page=\" + pagestr\n",
    "\n",
    "    pagelist.append(nextpage)\n",
    "    \n",
    "pagelist"
   ]
  },
  {
   "cell_type": "code",
   "execution_count": 84,
   "metadata": {},
   "outputs": [
    {
     "name": "stdout",
     "output_type": "stream",
     "text": [
      "2\n",
      "4\n",
      "6\n",
      "8\n",
      "10\n",
      "12\n",
      "14\n",
      "16\n",
      "18\n",
      "20\n"
     ]
    }
   ],
   "source": [
    "for x in range(2, 21, 2):\n",
    "    print(x)"
   ]
  },
  {
   "cell_type": "code",
   "execution_count": 85,
   "metadata": {},
   "outputs": [],
   "source": [
    "employees = [\"John\", \"Andrew\", \"Mark\"]"
   ]
  },
  {
   "cell_type": "code",
   "execution_count": 86,
   "metadata": {},
   "outputs": [
    {
     "name": "stdout",
     "output_type": "stream",
     "text": [
      "{'Brand': 'Samsung', 'Price': 3000, 'Color': 'Red'}\n"
     ]
    }
   ],
   "source": [
    "phone = {\n",
    "    \"Brand\": \"Samsung\",\n",
    "    \"Price\": 3000,\n",
    "    \"Color\": \"Red\"\n",
    "    }\n",
    "\n",
    "print(phone)"
   ]
  },
  {
   "cell_type": "code",
   "execution_count": 87,
   "metadata": {},
   "outputs": [
    {
     "name": "stdout",
     "output_type": "stream",
     "text": [
      "['red', 'Blue', 'Pink']\n",
      "dict_items([('Brand', 'Toyota'), ('Model', 'Landcruiser V8'), ('Year', 2018), ('Colors', ['red', 'Blue', 'Pink'])])\n",
      "exists\n"
     ]
    }
   ],
   "source": [
    "car = {\n",
    "    \"Brand\": \"Toyota\",\n",
    "    \"Model\": \"Landcruiser V8\",\n",
    "    \"Year\": 2018,\n",
    "    \"Colors\": [\"red\", \"Blue\", \"Pink\"]\n",
    "}\n",
    "\n",
    "print(car[\"Colors\"])\n",
    "\n",
    "y=car.get(\"Model\")\n",
    "\n",
    "x = car.keys()\n",
    "x\n",
    "z = car.values()\n",
    "s = car.items()\n",
    "\n",
    "print (s)\n",
    "\n",
    "if \"Model\" in car:\n",
    "    print(\"exists\")"
   ]
  },
  {
   "cell_type": "code",
   "execution_count": 88,
   "metadata": {},
   "outputs": [
    {
     "data": {
      "text/plain": [
       "{'Brand': 'Toyota',\n",
       " 'Model': 'Nissan',\n",
       " 'Year': 2018,\n",
       " 'Colors': ['red', 'Blue', 'Pink']}"
      ]
     },
     "execution_count": 88,
     "metadata": {},
     "output_type": "execute_result"
    }
   ],
   "source": [
    "car[\"Model\"] = \"Nissan\"\n",
    "car"
   ]
  },
  {
   "cell_type": "code",
   "execution_count": 89,
   "metadata": {},
   "outputs": [
    {
     "data": {
      "text/plain": [
       "{'Brand': 'Toyota',\n",
       " 'Model': 'Nissan',\n",
       " 'Year': 2018,\n",
       " 'Colors': ['red', 'Blue', 'Pink'],\n",
       " 'Engine size': '5400cc'}"
      ]
     },
     "execution_count": 89,
     "metadata": {},
     "output_type": "execute_result"
    }
   ],
   "source": [
    "car[\"Engine size\"] = \"5400cc\"\n",
    "car"
   ]
  },
  {
   "cell_type": "code",
   "execution_count": 90,
   "metadata": {},
   "outputs": [
    {
     "data": {
      "text/plain": [
       "{'Brand': 'Toyota',\n",
       " 'Model': 'Nissan',\n",
       " 'Year': 2018,\n",
       " 'Colors': ['red', 'Blue', 'Pink']}"
      ]
     },
     "execution_count": 90,
     "metadata": {},
     "output_type": "execute_result"
    }
   ],
   "source": [
    "car.popitem()\n",
    "car"
   ]
  },
  {
   "cell_type": "code",
   "execution_count": 91,
   "metadata": {},
   "outputs": [],
   "source": [
    "del car[\"Year\"]"
   ]
  },
  {
   "cell_type": "code",
   "execution_count": 92,
   "metadata": {},
   "outputs": [
    {
     "data": {
      "text/plain": [
       "{'Brand': 'Toyota', 'Model': 'Nissan', 'Colors': ['red', 'Blue', 'Pink']}"
      ]
     },
     "execution_count": 92,
     "metadata": {},
     "output_type": "execute_result"
    }
   ],
   "source": [
    "car"
   ]
  },
  {
   "cell_type": "code",
   "execution_count": 93,
   "metadata": {},
   "outputs": [
    {
     "data": {
      "text/plain": [
       "{}"
      ]
     },
     "execution_count": 93,
     "metadata": {},
     "output_type": "execute_result"
    }
   ],
   "source": [
    "car.clear()\n",
    "car"
   ]
  },
  {
   "cell_type": "code",
   "execution_count": 94,
   "metadata": {},
   "outputs": [
    {
     "data": {
      "text/plain": [
       "{'Brand': 'Samsung', 'Price': 3000, 'Color': 'Red'}"
      ]
     },
     "execution_count": 94,
     "metadata": {},
     "output_type": "execute_result"
    }
   ],
   "source": [
    "phone"
   ]
  },
  {
   "cell_type": "code",
   "execution_count": 95,
   "metadata": {},
   "outputs": [
    {
     "name": "stdout",
     "output_type": "stream",
     "text": [
      "Samsung\n",
      "3000\n",
      "Red\n"
     ]
    }
   ],
   "source": [
    "for x in phone:\n",
    "    print(phone[x])"
   ]
  },
  {
   "cell_type": "code",
   "execution_count": 96,
   "metadata": {},
   "outputs": [
    {
     "name": "stdout",
     "output_type": "stream",
     "text": [
      "Brand\n",
      "Price\n",
      "Color\n"
     ]
    }
   ],
   "source": [
    "for x in phone.keys():\n",
    "    print(x)"
   ]
  },
  {
   "cell_type": "code",
   "execution_count": 97,
   "metadata": {},
   "outputs": [
    {
     "data": {
      "text/plain": [
       "{'child1': {'name': 'Purity', 'age': 21},\n",
       " 'child2': {'name': 'Jane', 'age': 25},\n",
       " 'child3': {'name': 'Alpha', 'Age': '45'}}"
      ]
     },
     "execution_count": 97,
     "metadata": {},
     "output_type": "execute_result"
    }
   ],
   "source": [
    "children = {\n",
    "\"child1\": {\n",
    "    \"name\": \"Purity\",\n",
    "    \"age\": 21\n",
    "},\n",
    "\"child2\": {\n",
    "    \"name\" : \"Jane\",\n",
    "    \"age\": 25\n",
    "},\n",
    "\"child3\":{\n",
    "    \"name\": \"Alpha\",\n",
    "    \"Age\": \"45\"\n",
    "}\n",
    "}\n",
    "\n",
    "children"
   ]
  },
  {
   "cell_type": "code",
   "execution_count": 98,
   "metadata": {},
   "outputs": [
    {
     "name": "stdout",
     "output_type": "stream",
     "text": [
      "Recursion Example results\n",
      "1\n",
      "3\n",
      "6\n",
      "10\n",
      "15\n",
      "21\n",
      "28\n",
      "36\n"
     ]
    },
    {
     "data": {
      "text/plain": [
       "36"
      ]
     },
     "execution_count": 98,
     "metadata": {},
     "output_type": "execute_result"
    }
   ],
   "source": [
    "#Recursion\n",
    "\n",
    "def tri_recursion(k):\n",
    "    if (k > 0):\n",
    "        results = k + tri_recursion(k - 1)\n",
    "        print(results)\n",
    "        return results\n",
    "    else:\n",
    "        return 0\n",
    "    \n",
    "print(\"Recursion Example results\")\n",
    "\n",
    "tri_recursion(8)\n"
   ]
  },
  {
   "cell_type": "code",
   "execution_count": 99,
   "metadata": {},
   "outputs": [
    {
     "data": {
      "text/plain": [
       "10"
      ]
     },
     "execution_count": 99,
     "metadata": {},
     "output_type": "execute_result"
    }
   ],
   "source": [
    "def multiply(a , /):\n",
    "    return 5 + a\n",
    "\n",
    "multiply(5)"
   ]
  },
  {
   "cell_type": "code",
   "execution_count": 100,
   "metadata": {},
   "outputs": [
    {
     "name": "stdout",
     "output_type": "stream",
     "text": [
      "apple\n",
      "banana\n",
      "cherry\n"
     ]
    }
   ],
   "source": [
    "def my_function(food):\n",
    "  for x in food:\n",
    "    print(x)\n",
    "\n",
    "fruits = [\"apple\", \"banana\", \"cherry\"]\n",
    "\n",
    "my_function(fruits)"
   ]
  },
  {
   "cell_type": "code",
   "execution_count": 101,
   "metadata": {},
   "outputs": [],
   "source": [
    "import numpy as np"
   ]
  },
  {
   "cell_type": "code",
   "execution_count": 102,
   "metadata": {},
   "outputs": [
    {
     "name": "stdout",
     "output_type": "stream",
     "text": [
      "<class 'numpy.ndarray'>\n"
     ]
    }
   ],
   "source": [
    "arr  = np.array([1,2,3,4,5])\n",
    "print(type(arr))"
   ]
  },
  {
   "cell_type": "code",
   "execution_count": 103,
   "metadata": {},
   "outputs": [
    {
     "name": "stdout",
     "output_type": "stream",
     "text": [
      "[[5 7 5]\n",
      " [3 4 5]]\n"
     ]
    }
   ],
   "source": [
    "arr3 = np.array([[5,7,5], [3,4,5]])\n",
    "print(arr3)"
   ]
  },
  {
   "cell_type": "markdown",
   "metadata": {},
   "source": [
    "Create a 2D NumPy array named grades with 5 students and 4 subjects (Mathematics, Science, English, and History). Each entry should be a random number between 40 and 100 (inclusive).\n",
    "\n",
    "Print the grades array."
   ]
  },
  {
   "cell_type": "code",
   "execution_count": 104,
   "metadata": {},
   "outputs": [
    {
     "name": "stdout",
     "output_type": "stream",
     "text": [
      "[[53 89 97 48]\n",
      " [65 92 41 59]\n",
      " [67 86 99 46]\n",
      " [83 47 86 74]\n",
      " [53 56 75 89]]\n"
     ]
    }
   ],
   "source": [
    "arr4 = np.random.randint(40, 100, (5, 4))\n",
    "print(arr4)"
   ]
  },
  {
   "cell_type": "markdown",
   "metadata": {},
   "source": [
    "Print the grades of the third student (index 2).\n"
   ]
  },
  {
   "cell_type": "code",
   "execution_count": 105,
   "metadata": {},
   "outputs": [
    {
     "name": "stdout",
     "output_type": "stream",
     "text": [
      "[67 86 99 46]\n"
     ]
    }
   ],
   "source": [
    "print(arr4[2])"
   ]
  },
  {
   "cell_type": "markdown",
   "metadata": {},
   "source": [
    "Print the Science grades (second column).\n"
   ]
  },
  {
   "cell_type": "code",
   "execution_count": 106,
   "metadata": {},
   "outputs": [
    {
     "name": "stdout",
     "output_type": "stream",
     "text": [
      "[89 92 86 47 56]\n"
     ]
    }
   ],
   "source": [
    "print(arr4[:, 1])"
   ]
  },
  {
   "cell_type": "markdown",
   "metadata": {},
   "source": [
    "Print the grades of the last two students.\n"
   ]
  },
  {
   "cell_type": "code",
   "execution_count": 107,
   "metadata": {},
   "outputs": [
    {
     "name": "stdout",
     "output_type": "stream",
     "text": [
      "[[53 89 97 48]\n",
      " [65 92 41 59]\n",
      " [67 86 99 46]\n",
      " [83 47 86 74]\n",
      " [53 56 75 89]]\n"
     ]
    }
   ],
   "source": [
    "print(arr4)"
   ]
  },
  {
   "cell_type": "code",
   "execution_count": 108,
   "metadata": {},
   "outputs": [
    {
     "name": "stdout",
     "output_type": "stream",
     "text": [
      "[[83 47 86 74]\n",
      " [53 56 75 89]]\n"
     ]
    }
   ],
   "source": [
    "print(arr4[-2 : ])"
   ]
  },
  {
   "cell_type": "markdown",
   "metadata": {},
   "source": [
    "Print the highest grade obtained by the second student."
   ]
  },
  {
   "cell_type": "code",
   "execution_count": 109,
   "metadata": {},
   "outputs": [
    {
     "name": "stdout",
     "output_type": "stream",
     "text": [
      "[[53 89 97 48]\n",
      " [65 92 41 59]\n",
      " [67 86 99 46]\n",
      " [83 47 86 74]\n",
      " [53 56 75 89]]\n",
      "92\n"
     ]
    }
   ],
   "source": [
    "print(arr4)\n",
    "max_arr = arr4[1].max()\n",
    "print(max_arr)"
   ]
  },
  {
   "cell_type": "markdown",
   "metadata": {},
   "source": [
    "-----> Loop through each student’s grades and print whether they passed or failed each subject. A passing grade is 50 or above."
   ]
  },
  {
   "cell_type": "code",
   "execution_count": 110,
   "metadata": {},
   "outputs": [
    {
     "name": "stdout",
     "output_type": "stream",
     "text": [
      "students_passed\n",
      "students_passed\n",
      "students_passed\n",
      "Failed\n",
      "students_passed\n",
      "students_passed\n",
      "Failed\n",
      "students_passed\n",
      "students_passed\n",
      "students_passed\n",
      "students_passed\n",
      "Failed\n",
      "students_passed\n",
      "Failed\n",
      "students_passed\n",
      "students_passed\n",
      "students_passed\n",
      "students_passed\n",
      "students_passed\n",
      "students_passed\n"
     ]
    }
   ],
   "source": [
    "students_passed = []\n",
    "for x in arr4.flat:\n",
    "    if x > 50:\n",
    "        students_passed.append(arr4)\n",
    "        print(\"students_passed\")\n",
    "    elif x < 50:\n",
    "        students_passed.append(arr4)\n",
    "        print(\"Failed\")\n"
   ]
  },
  {
   "cell_type": "markdown",
   "metadata": {},
   "source": [
    " ----> Calculate and print the average grade for each student."
   ]
  },
  {
   "cell_type": "code",
   "execution_count": 111,
   "metadata": {},
   "outputs": [
    {
     "name": "stdout",
     "output_type": "stream",
     "text": [
      "71.75\n",
      "64.25\n",
      "74.5\n",
      "72.5\n",
      "68.25\n"
     ]
    }
   ],
   "source": [
    "#Students score\n",
    "student1 = arr4[0].mean()\n",
    "student2 = arr4[1].mean()\n",
    "student3 = arr4[2].mean()\n",
    "student4 = arr4[3].mean()\n",
    "student5 = arr4[4].mean()\n",
    "print(student1)\n",
    "print(student2)\n",
    "print(student3)\n",
    "print(student4)\n",
    "print(student5)\n"
   ]
  },
  {
   "cell_type": "code",
   "execution_count": 122,
   "metadata": {},
   "outputs": [
    {
     "name": "stdout",
     "output_type": "stream",
     "text": [
      "[71.75 64.25 74.5  72.5  68.25]\n"
     ]
    }
   ],
   "source": [
    "average_grades = np.mean(arr4, axis=1)\n",
    "print(average_grades)"
   ]
  },
  {
   "cell_type": "markdown",
   "metadata": {},
   "source": [
    "Find and print the name of the student with the highest average grade. Assume student names are stored in a list:\n"
   ]
  },
  {
   "cell_type": "code",
   "execution_count": null,
   "metadata": {},
   "outputs": [
    {
     "name": "stdout",
     "output_type": "stream",
     "text": [
      "Grades Array:\n",
      " [[53 89 97 48]\n",
      " [65 92 41 59]\n",
      " [67 86 99 46]\n",
      " [83 47 86 74]\n",
      " [53 56 75 89]]\n",
      "\n",
      "Average Grades: [71.75 64.25 74.5  72.5  68.25]\n",
      "\n",
      "Student(s) with the highest average grade: Charlie\n",
      "Highest average grade: 74.5\n"
     ]
    }
   ],
   "source": [
    "np.random.seed(42)  # For reproducibility\n",
    "\n",
    "# List of student names\n",
    "student_names = [\"Alice\", \"Bob\", \"Charlie\", \"David\", \"Eve\"]\n",
    "\n",
    "# Calculate the average grade for each student\n",
    "average_grades = np.mean(arr4, axis=1)\n",
    "\n",
    "# Find the highest average grade\n",
    "max_avg = np.max(average_grades)\n",
    "\n",
    "# Find the student(s) with the highest average\n",
    "highest_students = [name for name, avg in zip(student_names, average_grades) if avg == max_avg]\n",
    "\n",
    "# Print results\n",
    "print(\"Grades Array:\\n\", arr4)\n",
    "print(\"\\nAverage Grades:\", average_grades)\n",
    "print(\"\\nStudent(s) with the highest average grade:\", \", \".join(highest_students))\n",
    "print(\"Highest average grade:\", max_avg)\n"
   ]
  },
  {
   "cell_type": "markdown",
   "metadata": {},
   "source": [
    "Find and print the number of students who failed at least one subject.\n"
   ]
  },
  {
   "cell_type": "code",
   "execution_count": null,
   "metadata": {},
   "outputs": [
    {
     "name": "stdout",
     "output_type": "stream",
     "text": [
      "Number of students who failed: 4\n"
     ]
    }
   ],
   "source": [
    "students_failed_one = np.any(arr4 < 50, axis=1)\n",
    "\n",
    "number_students_failed = np.sum(students_failed_one)\n",
    "print(f\"Number of students who failed: {number_students_failed}\")"
   ]
  },
  {
   "cell_type": "markdown",
   "metadata": {},
   "source": [
    "**Advanced Analysis**\n",
    "\n",
    "Find and print the highest grade in each subject.\n"
   ]
  },
  {
   "cell_type": "code",
   "execution_count": null,
   "metadata": {},
   "outputs": [
    {
     "name": "stdout",
     "output_type": "stream",
     "text": [
      "Mathematics: 83\n",
      "Science: 92\n",
      "English: 99\n",
      "History: 89\n"
     ]
    }
   ],
   "source": [
    "subjects  = [\"Mathematics\", \"Science\", \"English\", \"History\"]\n",
    "\n",
    "max_grade = np.max(arr4, axis=0)\n",
    "\n",
    "for subject, grade in zip(subjects, max_grade):\n",
    "    print(f\"{subject}: {grade}\")"
   ]
  },
  {
   "cell_type": "code",
   "execution_count": 116,
   "metadata": {},
   "outputs": [
    {
     "data": {
      "text/plain": [
       "np.int64(1)"
      ]
     },
     "execution_count": 116,
     "metadata": {},
     "output_type": "execute_result"
    }
   ],
   "source": [
    "# Determine students who passed all subjects (grade >= 50)\n",
    "students_passed = np.all(arr4 >= 50, axis=1)\n",
    "\n",
    "# Count the number of students who passed all subjects\n",
    "num_passed_all = np.sum(students_passed)\n",
    "\n",
    "num_passed_all"
   ]
  },
  {
   "cell_type": "markdown",
   "metadata": {},
   "source": [
    "Print the highest grade obtained by the second student.\n"
   ]
  },
  {
   "cell_type": "code",
   "execution_count": 128,
   "metadata": {},
   "outputs": [
    {
     "data": {
      "text/plain": [
       "np.int32(92)"
      ]
     },
     "execution_count": 128,
     "metadata": {},
     "output_type": "execute_result"
    }
   ],
   "source": [
    "secondstudentmax = np.max(arr4[1])\n",
    "\n",
    "secondstudentmax\n"
   ]
  },
  {
   "cell_type": "markdown",
   "metadata": {},
   "source": [
    "Convert the numerical grades into letter grades using the following scale:\n",
    "\n",
    "* 90-100 → A\n",
    "* 80-89 → B\n",
    "* 70-79 → C\n",
    "* 60-69 → D\n",
    "* 50-59 → E\n",
    "* Below 50 → F\n",
    "\n",
    "Use loops and conditionals to replace numeric grades with letter grades in a new array"
   ]
  },
  {
   "cell_type": "code",
   "execution_count": 132,
   "metadata": {},
   "outputs": [
    {
     "name": "stdout",
     "output_type": "stream",
     "text": [
      "E\n",
      "B\n",
      "A\n",
      "F\n",
      "D\n",
      "A\n",
      "F\n",
      "E\n",
      "D\n",
      "B\n",
      "A\n",
      "F\n",
      "B\n",
      "F\n",
      "B\n",
      "C\n",
      "E\n",
      "E\n",
      "C\n",
      "B\n"
     ]
    }
   ],
   "source": [
    "for y in arr4.flat:\n",
    "    if y >=90 and y <=100:\n",
    "        print (\"A\")\n",
    "    elif y >=80 and y <=89:\n",
    "        print(\"B\")\n",
    "    elif y >=70 and y <=79:\n",
    "        print(\"C\")\n",
    "    elif y >=60 and y <=69:\n",
    "        print(\"D\")\n",
    "    elif y >=50 and y <=59:\n",
    "        print(\"E\")\n",
    "    else:\n",
    "        print(\"F\")"
   ]
  }
 ],
 "metadata": {
  "kernelspec": {
   "display_name": "Python 3",
   "language": "python",
   "name": "python3"
  },
  "language_info": {
   "codemirror_mode": {
    "name": "ipython",
    "version": 3
   },
   "file_extension": ".py",
   "mimetype": "text/x-python",
   "name": "python",
   "nbconvert_exporter": "python",
   "pygments_lexer": "ipython3",
   "version": "3.11.9"
  }
 },
 "nbformat": 4,
 "nbformat_minor": 2
}
