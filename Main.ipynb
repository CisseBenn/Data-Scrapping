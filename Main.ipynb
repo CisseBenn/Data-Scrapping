{
 "cells": [
  {
   "cell_type": "code",
   "execution_count": 23,
   "metadata": {},
   "outputs": [],
   "source": [
    "import requests\n",
    "import pandas as pd\n",
    "from bs4 import BeautifulSoup"
   ]
  },
  {
   "cell_type": "markdown",
   "metadata": {},
   "source": [
    "### Phase 1: 🕸️Data Scraping \n",
    "1.\tIdentify Categories\n",
    "\n",
    "\t*Select product categories to scrape (e.g., electronics, fashion, home appliances).*\n",
    "\t\n",
    "     I will scrape data from the following categories:\n",
    "\n",
    "\t* Phones & accessories\n",
    "\t* TV's & Audio\n",
    "\t* Computing / Computer Accessories\n",
    "\t\n",
    "\t*Compare how categories are structured on Jumia vs. Kilimall.*\n",
    "\n",
    "_Jumia Kenya_\n",
    "\n",
    "Main Categories chosen:\n",
    "\n",
    "* Phones & Tablets\n",
    "* TVs & Audio\n",
    "* Computing\n",
    "\n",
    "Sub Categories under Phones & Tablets\n",
    "\n",
    "* Mobile Phone Accessories\n",
    "* Mobile Phones\n",
    "* Phone & Fax\n",
    "* Tablet Accessories\n",
    "* Tablet Replacement Parts\n",
    "* Tablets\n",
    "* Landline Phones & Accessories\n",
    "\n",
    "_Kilimall_\n",
    "\n",
    "Main Categories chosen:\n",
    "\n",
    "* Phones & Accessories\n",
    "* TV, Audio & Video\n",
    "* Computers & Accessories\n",
    "\n",
    "Sub categories under Phones & Acccessories\n",
    "\n",
    "* Smart Phones\n",
    "* Featured Phones\n",
    "* Refurbished Phones\n",
    "* Wired Earphones\n",
    "* Bluetooth Earphones\n",
    "* Headphones\n",
    "* Sports Earphones\n",
    "* Smartwatches\n",
    "* Smartwatch Accessories\n",
    "* Body Mounted Cameras\n",
    "* Arm & Wristband Accessories etc.\n"
   ]
  },
  {
   "cell_type": "markdown",
   "metadata": {},
   "source": [
    "### \t2.\tScrape Product Listings\n",
    "• Extract product details: Name, Price, Brand, Ratings, Reviews, Discount, and Seller Information.\n",
    "\n",
    "• Collect at least 500-1000 products from each platform."
   ]
  },
  {
   "cell_type": "code",
   "execution_count": 24,
   "metadata": {},
   "outputs": [],
   "source": [
    "#I will use the Phone and Accessories Category\n",
    "kilimall_url = \"https://www.kilimall.co.ke/category/phones-accessories?id=872&form=category\"\n",
    "jumia_url = \"https://www.jumia.co.ke/phones-tablets/\""
   ]
  },
  {
   "cell_type": "code",
   "execution_count": 25,
   "metadata": {},
   "outputs": [
    {
     "data": {
      "text/plain": [
       "<Response [200]>"
      ]
     },
     "execution_count": 25,
     "metadata": {},
     "output_type": "execute_result"
    }
   ],
   "source": [
    "kilimall_response = requests.get(kilimall_url)\n",
    "kilimall_response"
   ]
  },
  {
   "cell_type": "code",
   "execution_count": 26,
   "metadata": {},
   "outputs": [
    {
     "data": {
      "text/plain": [
       "<Response [200]>"
      ]
     },
     "execution_count": 26,
     "metadata": {},
     "output_type": "execute_result"
    }
   ],
   "source": [
    "jumia_response = requests.get(jumia_url)\n",
    "jumia_response"
   ]
  },
  {
   "cell_type": "code",
   "execution_count": 27,
   "metadata": {},
   "outputs": [],
   "source": [
    "kilimall_sourcecode = BeautifulSoup(kilimall_response.content, 'html.parser')\n",
    "jumia_sourcecode = BeautifulSoup(jumia_response.content, 'html.parser')"
   ]
  },
  {
   "cell_type": "markdown",
   "metadata": {},
   "source": [
    "I will start 🗒️extracting details from kilimall first"
   ]
  },
  {
   "cell_type": "code",
   "execution_count": 28,
   "metadata": {},
   "outputs": [
    {
     "data": {
      "text/plain": [
       "['Refurbished Vivo Y55 2GB RAM 16GB ROM 5.2inch \" 2730 mAh Dual SIM 8MP+5MP Android Smartphones/ Mobile Phones',\n",
       " 'Air Pro3 TWS Macaron Color Pro 3 earpods Earphone Wireless Bluetooth Earphone Bluetooth V5.0 Touch Control for all Smart phone',\n",
       " 'XIAOMI Redmi 14C 128GB Storage Upto 8(4+4)GB Ram 50MP AI Dual Camera Immersive 6.88\" UHD Display Upto 120Hz Refresh Rate Dual Sim 5160mAh (typ) Battery Elegant glass back cover  Smart Phone',\n",
       " 'The latest hot selling P9 Pro Max TWS microphone noise cancelling bass subwoofer fashion wireless sports headphones',\n",
       " '[New Arrival] Xiaomi Redmi 14C 6.74\" 8GB RAM + 256GB Storage 4G Network Dual SIM 90Hz LCD Screen 50MP Camera 33W Type-C Charging 5160mAh Battery Fingerprin t& Face Smart Phones Phone',\n",
       " '[CASHBACK FRIDAY] Itel A70 128GB+8(3+5)GB RAM 6.6\" Screen  4G Network Phone Dual SIM 13MP Camera 5000mAh Battery Fingerprint And Face Unlock Fashion Smart Phones',\n",
       " '【3 free gifts】High Speed TF Card Micro SD Card memory Card MicroSD 16G 32G 64G 128G memorycard For phones Camera',\n",
       " '2.1M Tripod Stand with 10 Inch LED Ring Light- Dimmable Beauty Ringlight for Selfie Live Stream/Makeup/Youtube/Tiktok Video',\n",
       " '4PCS Tripod Stand Ring Light Phones Selfie Stick Live Bracket Spin Desktop Stabilizer Phone Clip Kings Home',\n",
       " 'Refurbished Phones Nokia 105 (2017)- Original Nokia Phone 800 mAh 1.5\" Dual SIM Cards Unlocked Cheap Durable Old Phone Classic Feature',\n",
       " 'RichRipple 2 in 1 Smart Watch Men Women Bluetooth Calling  Blood Pressure Heart Rate Monitor Sports Fitness Bracelet Smartwatch+Free Gift T55 Pro Max Bluetooth Earphone',\n",
       " 'VEDO F9 Bluetooth Earphone Mini True Wireless Stereo Earbuds With LED Digital earPods Display',\n",
       " '【Besundy】Wireless Bluetooth Neckband Waterproof Sports Earphone with Sweatproof in-Ear Retractable Earbuds,Noise Cancelling Earphones For Workout, Running, Driving.',\n",
       " '2024 New 3.5mm Wired Headphones In Ear Headset Wired Earphones with Microphone Bass Stereo Earbuds Sports In-line Control In-Ear Metal Subwoofer Earplugs With Mic For ANDROID Phones',\n",
       " 'RichRipple 60W 5 In 1 Multi-Functional Fast Charging Box Portable USB Type-C lightning Data Cable Storage Hidden phone stand, SIM card storage',\n",
       " 'Silicone Suction Cup Phone Case Mount , Phone Accessories Hands-Free Strong Grip Holder for Selfies and Videos, Silicon Phone Stand Fits for iPhone and Android, 1pcs',\n",
       " 'RichRipple G03 Wireless  Bluetooth Sports Earphones Neckband Earphones Earbuds Hanging Neck Band Sports Two Ears in-ear Neck Hanging Long Standby with Magnetic Voice Assistant',\n",
       " 'Nokia 105, 1.77\" screen, Dual SIM, Feature phone',\n",
       " '6A 120W 3 In 1 Charging Cable USB Fast Charger Cable For iPhone Micro USB Type-C Charging Cable For Huawei Samsung Xiaomi Wird Cord',\n",
       " 'Mini Portable USB LED Book Light DC5V Ultra Bright Reading Book Lamp 3leds 8leds Lights For Power Bank PC Laptop Notebook Lighting & Home Improvement',\n",
       " 'Refurbished  OPPO A7 A5s smart phone 64GB+4GB 6.2 inch fingerprint recognition, face recognition Front Camera16MP Rear Camera13MP+2MP 4230mAh 2G 3G 4G/LTE',\n",
       " '[New Year Promotion] Infinix Hot 50i 128GB + 12(6+6)GB 6.7\" Screen Phone Dual SIM 4G Network 5000mAh Battery with 18W Type-C Charging 48MP Camera Fingerprint Lock Android 14 G81 Smartphones',\n",
       " 'USB Bluetooth 5.0 Adapter Bluetooth Receiver Transmitter Wireless Audio Bluetooth Dongle for Computer PC Laptop Phone Tablet Printer Headphone Speaker Wireless Mouse Keyboard Music',\n",
       " 'Refurbished OPPO A57 2GB RAM 32GB ROM 5.2inch \" 2900 mAh Dual SIM 13MP+16MP Android Smartphones/ Mobile Phones',\n",
       " 'Samsung 45W Pd Charger With Type C To Type C Cable',\n",
       " 'Mounts & Stands Universal Lazy Holder Arm Flexible Mobile Phone Stand Stents Holder Bed Desk Table Others',\n",
       " 'New Type-C Wireless Bluetooth Lavalier Microphones Portable Audio Video Recording Mini Mic for Phone Live Broadcast Gaming Phone Mic Black Type-C TIKTOK Youtube Facebook',\n",
       " 'Brand New original Nokia 105,1.77\" Screen,Dual sim, Feature phone',\n",
       " 'Generic Ring Light Tripod 10Inch For Selfie,makeups,studio Supplimentary Light WITH 2.1M TRIPOD Stand',\n",
       " '[NEW ARRIVAL] Xiaomi Redmi 14C 6.74\" 4GB RAM + 128GB Storage 4G Network Dual SIM 90Hz LCD Screen 50MP Camera 33W Type-C Charging 5160mAh Battery Fingerprin t& Face Smart Phones Phone',\n",
       " 'PAFEL Bluetooth selfie stick 3in1 phones tripod stand fill light telescopic selfie stick wireless remote control tripod Bluetooth live streaming mobile phone stands',\n",
       " 'RichRipple Y50 Pro Wireless Bluetooth Earphone TWS Stereo Earbuds In-Ear Earpods Touch Control 450mAh with Mic Earphone for iOS Android',\n",
       " '[New Year Sales] Samsung Galaxy A05S 128GB+4GB 50MP Triple Camera Snapdragon 680 6.7\" 90Hz Display Android 13 5000mAh 25W Type-C Charge Smart Phones phone',\n",
       " 'Samsung Galaxy A16 128GB+4GB 6.7\" Super AMOLED Display 50MP Triple Camera Android 14 Mediatek Helio G99 5000mAh 25W Type-C Charge Smart Phones phone',\n",
       " '2 In1 USB Wireless Bluetooth Adapter 5.0 Transmitter Bluetooth for Computer TV Laptop Speaker Headset Adapter Bluetooth Receiver USB Music Dongle Adapter For Car Speaker PC',\n",
       " 'Refurbished ViVO Y67 64GB/32GB 5.5 inch 3000mAh 16MP+13MP (Global System) Dual SIM Smartphone Affordable Phone']"
      ]
     },
     "execution_count": 28,
     "metadata": {},
     "output_type": "execute_result"
    }
   ],
   "source": [
    "#Phone Names\n",
    "\n",
    "k_phone_names = []\n",
    "knames = kilimall_sourcecode.find_all(class_=\"product-title\")\n",
    "\n",
    "for name in knames:\n",
    "    k_phone_names.append(name.text)\n",
    "    \n",
    "k_phone_names"
   ]
  },
  {
   "cell_type": "code",
   "execution_count": 29,
   "metadata": {},
   "outputs": [],
   "source": [
    "#Phone Prices\n",
    "\n",
    "k_phone_prices = []\n",
    "kprices = kilimall_sourcecode.find_all(class_=\"product-price\")\n",
    "\n",
    "for price in kprices:\n",
    "    k_phone_prices.append(price.text)\n",
    "\n",
    "#k_phone_prices"
   ]
  },
  {
   "cell_type": "code",
   "execution_count": 30,
   "metadata": {},
   "outputs": [],
   "source": [
    "#Rating\n",
    "\n",
    "k_phone_rating = []\n",
    "krating = kilimall_sourcecode.find_all(class_=\"rate\")\n",
    "\n",
    "for rate in krating:\n",
    "    k_phone_rating.append(rate.text)\n",
    "\n",
    "#k_phone_rating"
   ]
  },
  {
   "cell_type": "code",
   "execution_count": 31,
   "metadata": {},
   "outputs": [],
   "source": [
    "#Reviews\n",
    "\n",
    "k_phone_reviews = []\n",
    "kreviews = kilimall_sourcecode.find_all(class_=\"info-box\")\n",
    "\n",
    "for review in kreviews:\n",
    "    k_phone_reviews.append(review.text)\n",
    "\n",
    "#k_phone_reviews"
   ]
  },
  {
   "cell_type": "code",
   "execution_count": 32,
   "metadata": {},
   "outputs": [],
   "source": [
    "# Seller Information\n",
    "\n",
    "k_phone_sellerinfo = []\n",
    "ksellerinfo = kilimall_sourcecode.find_all(class_=\"tag-bg\")\n",
    "\n",
    "for sellerinfo in ksellerinfo:\n",
    "    k_phone_sellerinfo.append(review.text)\n",
    "\n",
    "#k_phone_sellerinfo"
   ]
  },
  {
   "cell_type": "code",
   "execution_count": null,
   "metadata": {},
   "outputs": [],
   "source": []
  }
 ],
 "metadata": {
  "kernelspec": {
   "display_name": "Python 3",
   "language": "python",
   "name": "python3"
  },
  "language_info": {
   "codemirror_mode": {
    "name": "ipython",
    "version": 3
   },
   "file_extension": ".py",
   "mimetype": "text/x-python",
   "name": "python",
   "nbconvert_exporter": "python",
   "pygments_lexer": "ipython3",
   "version": "3.11.9"
  }
 },
 "nbformat": 4,
 "nbformat_minor": 2
}
